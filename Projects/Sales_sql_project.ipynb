{
 "cells": [
  {
   "cell_type": "markdown",
   "id": "c94fc53c",
   "metadata": {},
   "source": [
    "### Importing libraries"
   ]
  },
  {
   "cell_type": "markdown",
   "id": "dc34b73b",
   "metadata": {},
   "source": [
    "Exploring store sales using pandas, seaborn, and SQL.\\\n",
    "Data: https://www.kaggle.com/competitions/rossmann-store-sales/data?select=store.csv"
   ]
  },
  {
   "cell_type": "code",
   "execution_count": 1,
   "id": "72d74ccd",
   "metadata": {},
   "outputs": [],
   "source": [
    "import pandas as pd\n",
    "import numpy as np\n",
    "import matplotlib.pyplot as plt\n",
    "import seaborn as sns\n",
    "from sqlalchemy import create_engine, MetaData, Table\n",
    "\n",
    "sns.set_theme(style=\"whitegrid\")"
   ]
  },
  {
   "cell_type": "markdown",
   "id": "9a2ce364",
   "metadata": {},
   "source": [
    "### Reading and first exploration of sales"
   ]
  },
  {
   "cell_type": "code",
   "execution_count": 2,
   "id": "d4298004",
   "metadata": {},
   "outputs": [
    {
     "name": "stderr",
     "output_type": "stream",
     "text": [
      "C:\\Users\\roank\\BTS\\anaconda3\\envs\\DSF\\lib\\site-packages\\IPython\\core\\interactiveshell.py:3441: DtypeWarning: Columns (7) have mixed types.Specify dtype option on import or set low_memory=False.\n",
      "  exec(code_obj, self.user_global_ns, self.user_ns)\n"
     ]
    }
   ],
   "source": [
    "sales = pd.read_csv('sales_data.csv')"
   ]
  },
  {
   "cell_type": "code",
   "execution_count": 3,
   "id": "497fb327",
   "metadata": {},
   "outputs": [
    {
     "data": {
      "text/html": [
       "<div>\n",
       "<style scoped>\n",
       "    .dataframe tbody tr th:only-of-type {\n",
       "        vertical-align: middle;\n",
       "    }\n",
       "\n",
       "    .dataframe tbody tr th {\n",
       "        vertical-align: top;\n",
       "    }\n",
       "\n",
       "    .dataframe thead th {\n",
       "        text-align: right;\n",
       "    }\n",
       "</style>\n",
       "<table border=\"1\" class=\"dataframe\">\n",
       "  <thead>\n",
       "    <tr style=\"text-align: right;\">\n",
       "      <th></th>\n",
       "      <th>Store</th>\n",
       "      <th>DayOfWeek</th>\n",
       "      <th>Date</th>\n",
       "      <th>Sales</th>\n",
       "      <th>Customers</th>\n",
       "      <th>Open</th>\n",
       "      <th>Promo</th>\n",
       "      <th>StateHoliday</th>\n",
       "      <th>SchoolHoliday</th>\n",
       "    </tr>\n",
       "  </thead>\n",
       "  <tbody>\n",
       "    <tr>\n",
       "      <th>0</th>\n",
       "      <td>1</td>\n",
       "      <td>5</td>\n",
       "      <td>2015-07-31</td>\n",
       "      <td>5263</td>\n",
       "      <td>555</td>\n",
       "      <td>1</td>\n",
       "      <td>1</td>\n",
       "      <td>0</td>\n",
       "      <td>1</td>\n",
       "    </tr>\n",
       "    <tr>\n",
       "      <th>1</th>\n",
       "      <td>2</td>\n",
       "      <td>5</td>\n",
       "      <td>2015-07-31</td>\n",
       "      <td>6064</td>\n",
       "      <td>625</td>\n",
       "      <td>1</td>\n",
       "      <td>1</td>\n",
       "      <td>0</td>\n",
       "      <td>1</td>\n",
       "    </tr>\n",
       "    <tr>\n",
       "      <th>2</th>\n",
       "      <td>3</td>\n",
       "      <td>5</td>\n",
       "      <td>2015-07-31</td>\n",
       "      <td>8314</td>\n",
       "      <td>821</td>\n",
       "      <td>1</td>\n",
       "      <td>1</td>\n",
       "      <td>0</td>\n",
       "      <td>1</td>\n",
       "    </tr>\n",
       "    <tr>\n",
       "      <th>3</th>\n",
       "      <td>4</td>\n",
       "      <td>5</td>\n",
       "      <td>2015-07-31</td>\n",
       "      <td>13995</td>\n",
       "      <td>1498</td>\n",
       "      <td>1</td>\n",
       "      <td>1</td>\n",
       "      <td>0</td>\n",
       "      <td>1</td>\n",
       "    </tr>\n",
       "    <tr>\n",
       "      <th>4</th>\n",
       "      <td>5</td>\n",
       "      <td>5</td>\n",
       "      <td>2015-07-31</td>\n",
       "      <td>4822</td>\n",
       "      <td>559</td>\n",
       "      <td>1</td>\n",
       "      <td>1</td>\n",
       "      <td>0</td>\n",
       "      <td>1</td>\n",
       "    </tr>\n",
       "  </tbody>\n",
       "</table>\n",
       "</div>"
      ],
      "text/plain": [
       "   Store  DayOfWeek        Date  Sales  Customers  Open  Promo StateHoliday  \\\n",
       "0      1          5  2015-07-31   5263        555     1      1            0   \n",
       "1      2          5  2015-07-31   6064        625     1      1            0   \n",
       "2      3          5  2015-07-31   8314        821     1      1            0   \n",
       "3      4          5  2015-07-31  13995       1498     1      1            0   \n",
       "4      5          5  2015-07-31   4822        559     1      1            0   \n",
       "\n",
       "   SchoolHoliday  \n",
       "0              1  \n",
       "1              1  \n",
       "2              1  \n",
       "3              1  \n",
       "4              1  "
      ]
     },
     "execution_count": 3,
     "metadata": {},
     "output_type": "execute_result"
    }
   ],
   "source": [
    "sales.head()"
   ]
  },
  {
   "cell_type": "markdown",
   "id": "f0b19ef1",
   "metadata": {},
   "source": [
    "##### Checking StateHoliday feature; due to warning"
   ]
  },
  {
   "cell_type": "code",
   "execution_count": 4,
   "id": "84662627",
   "metadata": {},
   "outputs": [
    {
     "data": {
      "text/plain": [
       "array(['0', 'a', 'b', 'c', 0], dtype=object)"
      ]
     },
     "execution_count": 4,
     "metadata": {},
     "output_type": "execute_result"
    }
   ],
   "source": [
    "sales.StateHoliday.unique()"
   ]
  },
  {
   "cell_type": "code",
   "execution_count": 5,
   "id": "72b503ea",
   "metadata": {},
   "outputs": [
    {
     "name": "stdout",
     "output_type": "stream",
     "text": [
      "['None' 'public holiday' 'Easter holiday' 'Christmas']\n",
      "category\n"
     ]
    }
   ],
   "source": [
    "holidays = {'a':'public holiday','b':'Easter holiday','c':'Christmas', 'n':'None'}\n",
    "\n",
    "sales.StateHoliday = np.where(sales.StateHoliday.isin(['0',0]), 'n', sales.StateHoliday)\n",
    "sales.StateHoliday = sales.StateHoliday.map(holidays)\n",
    "print(sales.StateHoliday.unique())\n",
    "\n",
    "sales.StateHoliday = sales.StateHoliday.astype('category')\n",
    "print(sales.StateHoliday.dtype)"
   ]
  },
  {
   "cell_type": "code",
   "execution_count": 6,
   "id": "9233f4f1",
   "metadata": {},
   "outputs": [],
   "source": [
    "engine = create_engine('sqlite://')\n",
    "sales.to_sql('sales',con = engine)\n",
    "conn = engine.connect()"
   ]
  },
  {
   "cell_type": "code",
   "execution_count": 7,
   "id": "6accb193",
   "metadata": {},
   "outputs": [
    {
     "data": {
      "text/plain": [
       "[(0, 1, 5, '2015-07-31', 5263, 555, 1, 1, 'None', 1),\n",
       " (1, 2, 5, '2015-07-31', 6064, 625, 1, 1, 'None', 1),\n",
       " (2, 3, 5, '2015-07-31', 8314, 821, 1, 1, 'None', 1),\n",
       " (3, 4, 5, '2015-07-31', 13995, 1498, 1, 1, 'None', 1),\n",
       " (4, 5, 5, '2015-07-31', 4822, 559, 1, 1, 'None', 1)]"
      ]
     },
     "execution_count": 7,
     "metadata": {},
     "output_type": "execute_result"
    }
   ],
   "source": [
    "rs = conn.execute('SELECT * FROM sales LIMIT 5')\n",
    "rs.fetchall()"
   ]
  },
  {
   "cell_type": "markdown",
   "id": "5cf44bff",
   "metadata": {},
   "source": [
    "### Exploring the distributions of several features"
   ]
  },
  {
   "cell_type": "code",
   "execution_count": 8,
   "id": "1b57410b",
   "metadata": {},
   "outputs": [
    {
     "data": {
      "image/png": "[encoded data removed]",
      "text/plain": [
       "<Figure size 432x288 with 1 Axes>"
      ]
     },
     "metadata": {},
     "output_type": "display_data"
    }
   ],
   "source": [
    "rs = conn.execute('SELECT DayofWeek, AVG(Sales) as mean_sales FROM sales\\\n",
    "                    Group By DayOfWeek')\n",
    "results = rs.fetchall()\n",
    "plt.bar(height = dict(results).values(),x = dict(results).keys());"
   ]
  },
  {
   "cell_type": "code",
   "execution_count": 9,
   "id": "28ca7da8",
   "metadata": {},
   "outputs": [
    {
     "data": {
      "image/png": "[encoded data removed]",
      "text/plain": [
       "<Figure size 360x360 with 1 Axes>"
      ]
     },
     "metadata": {},
     "output_type": "display_data"
    }
   ],
   "source": [
    "rs = conn.execute('SELECT StateHoliday, AVG(Sales) as mean_sales FROM sales\\\n",
    "                    Group By StateHoliday\\\n",
    "                    ORDER BY mean_sales DESC')\n",
    "results = rs.fetchall()\n",
    "\n",
    "sns.catplot(data=pd.DataFrame(results), x = 0, y = 1, kind = 'bar')\n",
    "plt.xlabel('State Holiday')\n",
    "plt.ylabel('sales');"
   ]
  },
  {
   "cell_type": "code",
   "execution_count": 10,
   "id": "dd9adad9",
   "metadata": {},
   "outputs": [
    {
     "data": {
      "image/png": "[encoded data removed]",
      "text/plain": [
       "<Figure size 864x576 with 2 Axes>"
      ]
     },
     "metadata": {},
     "output_type": "display_data"
    }
   ],
   "source": [
    "rs = conn.execute('SELECT SchoolHoliday, Sales FROM sales')\n",
    "results = rs.fetchall()\n",
    "\n",
    "fig, axes = plt.subplots(nrows =1, ncols = 2, figsize = (12,8))\n",
    "\n",
    "sns.boxplot(ax = axes[0],data = pd.DataFrame(results), x = 0, y = 1)\n",
    "sns.boxplot(ax = axes[1],data = pd.DataFrame(results), x = 0, y = 1, showfliers = False)\n",
    "for ax in axes.flat:\n",
    "    ax.set(xlabel='School Holiday', ylabel='Sales');"
   ]
  },
  {
   "cell_type": "markdown",
   "id": "53dff8a4",
   "metadata": {},
   "source": [
    "### Reading and exploring second, related dataset"
   ]
  },
  {
   "cell_type": "code",
   "execution_count": 11,
   "id": "f4e27bbc",
   "metadata": {},
   "outputs": [],
   "source": [
    "stores = pd.read_csv('store.csv')"
   ]
  },
  {
   "cell_type": "code",
   "execution_count": 12,
   "id": "25e1738d",
   "metadata": {},
   "outputs": [
    {
     "data": {
      "text/html": [
       "<div>\n",
       "<style scoped>\n",
       "    .dataframe tbody tr th:only-of-type {\n",
       "        vertical-align: middle;\n",
       "    }\n",
       "\n",
       "    .dataframe tbody tr th {\n",
       "        vertical-align: top;\n",
       "    }\n",
       "\n",
       "    .dataframe thead th {\n",
       "        text-align: right;\n",
       "    }\n",
       "</style>\n",
       "<table border=\"1\" class=\"dataframe\">\n",
       "  <thead>\n",
       "    <tr style=\"text-align: right;\">\n",
       "      <th></th>\n",
       "      <th>Store</th>\n",
       "      <th>StoreType</th>\n",
       "      <th>Assortment</th>\n",
       "      <th>CompetitionDistance</th>\n",
       "      <th>CompetitionOpenSinceMonth</th>\n",
       "      <th>CompetitionOpenSinceYear</th>\n",
       "      <th>Promo2</th>\n",
       "      <th>Promo2SinceWeek</th>\n",
       "      <th>Promo2SinceYear</th>\n",
       "      <th>PromoInterval</th>\n",
       "    </tr>\n",
       "  </thead>\n",
       "  <tbody>\n",
       "    <tr>\n",
       "      <th>0</th>\n",
       "      <td>1</td>\n",
       "      <td>c</td>\n",
       "      <td>a</td>\n",
       "      <td>1270.0</td>\n",
       "      <td>9.0</td>\n",
       "      <td>2008.0</td>\n",
       "      <td>0</td>\n",
       "      <td>NaN</td>\n",
       "      <td>NaN</td>\n",
       "      <td>NaN</td>\n",
       "    </tr>\n",
       "    <tr>\n",
       "      <th>1</th>\n",
       "      <td>2</td>\n",
       "      <td>a</td>\n",
       "      <td>a</td>\n",
       "      <td>570.0</td>\n",
       "      <td>11.0</td>\n",
       "      <td>2007.0</td>\n",
       "      <td>1</td>\n",
       "      <td>13.0</td>\n",
       "      <td>2010.0</td>\n",
       "      <td>Jan,Apr,Jul,Oct</td>\n",
       "    </tr>\n",
       "    <tr>\n",
       "      <th>2</th>\n",
       "      <td>3</td>\n",
       "      <td>a</td>\n",
       "      <td>a</td>\n",
       "      <td>14130.0</td>\n",
       "      <td>12.0</td>\n",
       "      <td>2006.0</td>\n",
       "      <td>1</td>\n",
       "      <td>14.0</td>\n",
       "      <td>2011.0</td>\n",
       "      <td>Jan,Apr,Jul,Oct</td>\n",
       "    </tr>\n",
       "    <tr>\n",
       "      <th>3</th>\n",
       "      <td>4</td>\n",
       "      <td>c</td>\n",
       "      <td>c</td>\n",
       "      <td>620.0</td>\n",
       "      <td>9.0</td>\n",
       "      <td>2009.0</td>\n",
       "      <td>0</td>\n",
       "      <td>NaN</td>\n",
       "      <td>NaN</td>\n",
       "      <td>NaN</td>\n",
       "    </tr>\n",
       "    <tr>\n",
       "      <th>4</th>\n",
       "      <td>5</td>\n",
       "      <td>a</td>\n",
       "      <td>a</td>\n",
       "      <td>29910.0</td>\n",
       "      <td>4.0</td>\n",
       "      <td>2015.0</td>\n",
       "      <td>0</td>\n",
       "      <td>NaN</td>\n",
       "      <td>NaN</td>\n",
       "      <td>NaN</td>\n",
       "    </tr>\n",
       "  </tbody>\n",
       "</table>\n",
       "</div>"
      ],
      "text/plain": [
       "   Store StoreType Assortment  CompetitionDistance  CompetitionOpenSinceMonth  \\\n",
       "0      1         c          a               1270.0                        9.0   \n",
       "1      2         a          a                570.0                       11.0   \n",
       "2      3         a          a              14130.0                       12.0   \n",
       "3      4         c          c                620.0                        9.0   \n",
       "4      5         a          a              29910.0                        4.0   \n",
       "\n",
       "   CompetitionOpenSinceYear  Promo2  Promo2SinceWeek  Promo2SinceYear  \\\n",
       "0                    2008.0       0              NaN              NaN   \n",
       "1                    2007.0       1             13.0           2010.0   \n",
       "2                    2006.0       1             14.0           2011.0   \n",
       "3                    2009.0       0              NaN              NaN   \n",
       "4                    2015.0       0              NaN              NaN   \n",
       "\n",
       "     PromoInterval  \n",
       "0              NaN  \n",
       "1  Jan,Apr,Jul,Oct  \n",
       "2  Jan,Apr,Jul,Oct  \n",
       "3              NaN  \n",
       "4              NaN  "
      ]
     },
     "execution_count": 12,
     "metadata": {},
     "output_type": "execute_result"
    }
   ],
   "source": [
    "stores.head()"
   ]
  },
  {
   "cell_type": "code",
   "execution_count": 13,
   "id": "2cc398ac",
   "metadata": {},
   "outputs": [],
   "source": [
    "stores.drop(['Promo2SinceWeek','Promo2SinceYear','PromoInterval'], axis = 1, inplace = True)"
   ]
  },
  {
   "cell_type": "code",
   "execution_count": 14,
   "id": "85a515ba",
   "metadata": {},
   "outputs": [
    {
     "name": "stdout",
     "output_type": "stream",
     "text": [
      "['basic' 'extended' 'extra']\n",
      "category\n"
     ]
    }
   ],
   "source": [
    "assortment = {'a':'basic','b':'extra','c':'extended'}\n",
    "stores.Assortment =stores.Assortment.map(assortment)\n",
    "print(stores.Assortment.unique())\n",
    "stores.Assortment =stores.Assortment.astype('category')\n",
    "print(stores.Assortment.dtype)"
   ]
  },
  {
   "cell_type": "markdown",
   "id": "e9b2b735",
   "metadata": {},
   "source": [
    "### Exploring sales and stores dataset combined"
   ]
  },
  {
   "cell_type": "code",
   "execution_count": 15,
   "id": "6686006c",
   "metadata": {},
   "outputs": [],
   "source": [
    "stores.to_sql('stores',con = engine)"
   ]
  },
  {
   "cell_type": "code",
   "execution_count": 16,
   "id": "a60cef38",
   "metadata": {},
   "outputs": [
    {
     "data": {
      "image/png": "[encoded data removed]",
      "text/plain": [
       "<Figure size 432x288 with 1 Axes>"
      ]
     },
     "metadata": {},
     "output_type": "display_data"
    }
   ],
   "source": [
    "rs = conn.execute('SELECT Assortment, AVG(Sales) as mean_sales\\\n",
    "                    FROM sales\\\n",
    "                    LEFT JOIN stores\\\n",
    "                    USING (Store)\\\n",
    "                    GROUP BY Assortment')\n",
    "results = rs.fetchall()\n",
    "sns.barplot(data=pd.DataFrame(results), x = 0, y = 1)\n",
    "plt.xlabel('Assortment')\n",
    "plt.ylabel('Sales');"
   ]
  },
  {
   "cell_type": "code",
   "execution_count": 17,
   "id": "535153e7",
   "metadata": {},
   "outputs": [
    {
     "data": {
      "image/png": "[encoded data removed]",
      "text/plain": [
       "<Figure size 1080x432 with 1 Axes>"
      ]
     },
     "metadata": {},
     "output_type": "display_data"
    }
   ],
   "source": [
    "rs = conn.execute('SELECT StoreType, Promo, Date, Sales\\\n",
    "                    FROM sales\\\n",
    "                    LEFT JOIN stores\\\n",
    "                    USING (Store)')\n",
    "results = rs.fetchall()\n",
    "\n",
    "results = pd.DataFrame(results, columns = ['storetype','promo','date','sales'])\n",
    "results['month'] = pd.DatetimeIndex(results.date).month\n",
    "\n",
    "plt.figure(figsize = (15,6))\n",
    "\n",
    "ax = sns.lineplot(data = results.groupby(['month','promo']).agg({'sales':'mean'}), x = 'month', y = 'sales', hue = 'promo')\n",
    "plt.xticks(np.linspace(1,12,12));"
   ]
  },
  {
   "cell_type": "code",
   "execution_count": 18,
   "id": "68053267",
   "metadata": {},
   "outputs": [
    {
     "data": {
      "image/png": "[encoded data removed]",
      "text/plain": [
       "<Figure size 432x288 with 1 Axes>"
      ]
     },
     "metadata": {},
     "output_type": "display_data"
    }
   ],
   "source": [
    "sns.histplot(data = results, x = 'sales', hue = 'promo')\n",
    "plt.ylim([0,9000])\n",
    "plt.xlim([0,30000]);"
   ]
  },
  {
   "cell_type": "code",
   "execution_count": 19,
   "id": "eefe5cf4",
   "metadata": {},
   "outputs": [
    {
     "name": "stdout",
     "output_type": "stream",
     "text": [
      "Promo sales: \n",
      " count    388080.000000\n",
      "mean       7991.152046\n",
      "std        3419.025495\n",
      "min           0.000000\n",
      "25%        5922.000000\n",
      "50%        7553.000000\n",
      "75%        9603.000000\n",
      "max       38722.000000\n",
      "Name: sales, dtype: float64\n",
      "\n",
      "Regular sales: \n",
      " count    629129.000000\n",
      "mean       4406.050805\n",
      "std        3442.450020\n",
      "min           0.000000\n",
      "25%           0.000000\n",
      "50%        4622.000000\n",
      "75%        6367.000000\n",
      "max       41551.000000\n",
      "Name: sales, dtype: float64\n"
     ]
    }
   ],
   "source": [
    "promo_sales = results[results.promo == 1]\n",
    "regular_sales = results[results.promo == 0]\n",
    "\n",
    "print('Promo sales: \\n',promo_sales.sales.describe())\n",
    "print('\\nRegular sales: \\n',regular_sales.sales.describe())"
   ]
  }
 ],
 "metadata": {
  "kernelspec": {
   "display_name": "Python 3 (ipykernel)",
   "language": "python",
   "name": "python3"
  },
  "language_info": {
   "codemirror_mode": {
    "name": "ipython",
    "version": 3
   },
   "file_extension": ".py",
   "mimetype": "text/x-python",
   "name": "python",
   "nbconvert_exporter": "python",
   "pygments_lexer": "ipython3",
   "version": "3.9.7"
  }
 },
 "nbformat": 4,
 "nbformat_minor": 5
}
