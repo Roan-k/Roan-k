{
 "cells": [
  {
   "cell_type": "markdown",
   "id": "dc26e50e",
   "metadata": {},
   "source": [
    "# AB testing mobile game"
   ]
  },
  {
   "cell_type": "markdown",
   "id": "5d3822d9",
   "metadata": {},
   "source": [
    "The goal of this project is to perform AB testing for data on a mobile game called Cookie Cats (by Tactile Entertainment). The game developer tried two different variantions of a 'level gate', which forces users to wait some time before they can continue. In this project, I will perform EDA, o \n",
    "\n",
    "\n",
    "\n",
    "\n",
    "1. Importing libraries;\n",
    "2. Loading and first exploration of datasets;\n",
    "3. Moving to SQL tables\n",
    "4. EDA and hypothesis testing\n",
    "5. Time-series analysis\n",
    "\n",
    "Source: https://www.kaggle.com/competitions/rossmann-store-sales/data?select=store.csv"
   ]
  },
  {
   "cell_type": "markdown",
   "id": "408f73e6",
   "metadata": {},
   "source": [
    "### 1. Importing libraries"
   ]
  },
  {
   "cell_type": "code",
   "execution_count": 241,
   "id": "7b9c9ab7",
   "metadata": {},
   "outputs": [],
   "source": [
    "import pandas as pd\n",
    "import numpy as np\n",
    "import matplotlib.pyplot as plt\n",
    "import seaborn as sns\n",
    "\n",
    "import scipy.stats as stats\n",
    "from scipy.stats import mannwhitneyu\n",
    "\n",
    "sns.set_theme(style=\"whitegrid\")"
   ]
  },
  {
   "cell_type": "markdown",
   "id": "b76cd764",
   "metadata": {},
   "source": [
    "### 2. EDA"
   ]
  },
  {
   "cell_type": "code",
   "execution_count": 2,
   "id": "55561e0e",
   "metadata": {},
   "outputs": [
    {
     "data": {
      "text/html": [
       "<div>\n",
       "<style scoped>\n",
       "    .dataframe tbody tr th:only-of-type {\n",
       "        vertical-align: middle;\n",
       "    }\n",
       "\n",
       "    .dataframe tbody tr th {\n",
       "        vertical-align: top;\n",
       "    }\n",
       "\n",
       "    .dataframe thead th {\n",
       "        text-align: right;\n",
       "    }\n",
       "</style>\n",
       "<table border=\"1\" class=\"dataframe\">\n",
       "  <thead>\n",
       "    <tr style=\"text-align: right;\">\n",
       "      <th></th>\n",
       "      <th>userid</th>\n",
       "      <th>version</th>\n",
       "      <th>sum_gamerounds</th>\n",
       "      <th>retention_1</th>\n",
       "      <th>retention_7</th>\n",
       "    </tr>\n",
       "  </thead>\n",
       "  <tbody>\n",
       "    <tr>\n",
       "      <th>0</th>\n",
       "      <td>116</td>\n",
       "      <td>gate_30</td>\n",
       "      <td>3</td>\n",
       "      <td>False</td>\n",
       "      <td>False</td>\n",
       "    </tr>\n",
       "    <tr>\n",
       "      <th>1</th>\n",
       "      <td>337</td>\n",
       "      <td>gate_30</td>\n",
       "      <td>38</td>\n",
       "      <td>True</td>\n",
       "      <td>False</td>\n",
       "    </tr>\n",
       "    <tr>\n",
       "      <th>2</th>\n",
       "      <td>377</td>\n",
       "      <td>gate_40</td>\n",
       "      <td>165</td>\n",
       "      <td>True</td>\n",
       "      <td>False</td>\n",
       "    </tr>\n",
       "  </tbody>\n",
       "</table>\n",
       "</div>"
      ],
      "text/plain": [
       "   userid  version  sum_gamerounds  retention_1  retention_7\n",
       "0     116  gate_30               3        False        False\n",
       "1     337  gate_30              38         True        False\n",
       "2     377  gate_40             165         True        False"
      ]
     },
     "execution_count": 2,
     "metadata": {},
     "output_type": "execute_result"
    }
   ],
   "source": [
    "df = pd.read_csv('cookie_cats.csv')\n",
    "df.head(3)"
   ]
  },
  {
   "cell_type": "markdown",
   "id": "a6de55b2",
   "metadata": {},
   "source": [
    "1. Business problem\n",
    "2. Clean data\n",
    "3. EDA\n",
    "4. Hypothesis testing\n",
    "5. Evaluate"
   ]
  },
  {
   "cell_type": "code",
   "execution_count": 3,
   "id": "29fe4b35",
   "metadata": {},
   "outputs": [
    {
     "name": "stdout",
     "output_type": "stream",
     "text": [
      "N samples:  90189\n",
      "\n",
      "Data types:\n",
      " userid             int64\n",
      "version           object\n",
      "sum_gamerounds     int64\n",
      "retention_1         bool\n",
      "retention_7         bool\n",
      "dtype: object\n",
      "\n",
      "Target value: sum_gamerounds\n",
      "Groups:  ['gate_30' 'gate_40']\n",
      "\n",
      "Number of users:  90189\n",
      "Unique users: True\n",
      "\n",
      "Missing values:  0\n"
     ]
    }
   ],
   "source": [
    "print('N samples: ',df.shape[0])\n",
    "print('\\nData types:\\n',df.dtypes)\n",
    "\n",
    "print('\\nTarget value: sum_gamerounds')\n",
    "print('Groups: ', df.version.unique())\n",
    "\n",
    "print('\\nNumber of users: ',df.userid.nunique())\n",
    "print('Unique users:',df.userid.nunique()==df.shape[0])\n",
    "\n",
    "print('\\nMissing values: ',df.isna().any().sum())"
   ]
  },
  {
   "cell_type": "code",
   "execution_count": 4,
   "id": "9e7890c1",
   "metadata": {},
   "outputs": [
    {
     "name": "stdout",
     "output_type": "stream",
     "text": [
      "Group distribution: \n",
      " gate_40    45489\n",
      "gate_30    44700\n",
      "Name: version, dtype: int64\n"
     ]
    }
   ],
   "source": [
    "print('Group distribution: \\n',df.version.value_counts())"
   ]
  },
  {
   "cell_type": "markdown",
   "id": "632ba648",
   "metadata": {},
   "source": [
    "The two groups are very similar in size, and having two groups allows for comparing the two different level gates while controlling for other variables (like seasonality or other trends)."
   ]
  },
  {
   "cell_type": "code",
   "execution_count": 5,
   "id": "60862751",
   "metadata": {},
   "outputs": [
    {
     "data": {
      "text/html": [
       "<div>\n",
       "<style scoped>\n",
       "    .dataframe tbody tr th:only-of-type {\n",
       "        vertical-align: middle;\n",
       "    }\n",
       "\n",
       "    .dataframe tbody tr th {\n",
       "        vertical-align: top;\n",
       "    }\n",
       "\n",
       "    .dataframe thead th {\n",
       "        text-align: right;\n",
       "    }\n",
       "</style>\n",
       "<table border=\"1\" class=\"dataframe\">\n",
       "  <thead>\n",
       "    <tr style=\"text-align: right;\">\n",
       "      <th></th>\n",
       "      <th>count</th>\n",
       "      <th>mean</th>\n",
       "      <th>std</th>\n",
       "      <th>min</th>\n",
       "      <th>25%</th>\n",
       "      <th>50%</th>\n",
       "      <th>75%</th>\n",
       "      <th>max</th>\n",
       "    </tr>\n",
       "    <tr>\n",
       "      <th>version</th>\n",
       "      <th></th>\n",
       "      <th></th>\n",
       "      <th></th>\n",
       "      <th></th>\n",
       "      <th></th>\n",
       "      <th></th>\n",
       "      <th></th>\n",
       "      <th></th>\n",
       "    </tr>\n",
       "  </thead>\n",
       "  <tbody>\n",
       "    <tr>\n",
       "      <th>gate_30</th>\n",
       "      <td>44700.0</td>\n",
       "      <td>52.456264</td>\n",
       "      <td>256.716423</td>\n",
       "      <td>0.0</td>\n",
       "      <td>5.0</td>\n",
       "      <td>17.0</td>\n",
       "      <td>50.0</td>\n",
       "      <td>49854.0</td>\n",
       "    </tr>\n",
       "    <tr>\n",
       "      <th>gate_40</th>\n",
       "      <td>45489.0</td>\n",
       "      <td>51.298776</td>\n",
       "      <td>103.294416</td>\n",
       "      <td>0.0</td>\n",
       "      <td>5.0</td>\n",
       "      <td>16.0</td>\n",
       "      <td>52.0</td>\n",
       "      <td>2640.0</td>\n",
       "    </tr>\n",
       "  </tbody>\n",
       "</table>\n",
       "</div>"
      ],
      "text/plain": [
       "           count       mean         std  min  25%   50%   75%      max\n",
       "version                                                               \n",
       "gate_30  44700.0  52.456264  256.716423  0.0  5.0  17.0  50.0  49854.0\n",
       "gate_40  45489.0  51.298776  103.294416  0.0  5.0  16.0  52.0   2640.0"
      ]
     },
     "execution_count": 5,
     "metadata": {},
     "output_type": "execute_result"
    }
   ],
   "source": [
    "df.groupby('version').sum_gamerounds.describe()"
   ]
  },
  {
   "cell_type": "code",
   "execution_count": 117,
   "id": "68cc2e0c",
   "metadata": {},
   "outputs": [],
   "source": [
    "def hist_and_box(df):\n",
    "    fig, ax = plt.subplots(2,2, figsize = (6,6))\n",
    "\n",
    "    for i,gate in enumerate(['gate_30','gate_40']):\n",
    "        df[df.version == gate].sum_gamerounds.hist(ax = ax[0,i], bins = 50)\n",
    "        ax[0,i].set_title(gate)\n",
    "\n",
    "    sns.boxplot(data = df, y = 'sum_gamerounds', x = 'version', ax = ax[1,0])\n",
    "    sns.boxplot(data = df, y = 'sum_gamerounds', x = 'version', showfliers = False, ax = ax[1,1])\n",
    "    plt.tight_layout(pad=1, w_pad=1, h_pad=1.0)\n",
    "    plt.show()"
   ]
  },
  {
   "cell_type": "code",
   "execution_count": 118,
   "id": "0c3e12f0",
   "metadata": {},
   "outputs": [
    {
     "data": {
      "image/png": "[encoded data removed]",
      "text/plain": [
       "<Figure size 600x600 with 4 Axes>"
      ]
     },
     "metadata": {},
     "output_type": "display_data"
    }
   ],
   "source": [
    "hist_and_box(df)"
   ]
  },
  {
   "cell_type": "markdown",
   "id": "43f1c726",
   "metadata": {},
   "source": [
    "### 3. Dealing with outliers"
   ]
  },
  {
   "cell_type": "markdown",
   "id": "29ec5980",
   "metadata": {},
   "source": [
    "We notice that there's some strong outliers, especially within the gate_30 group. Also, let's if there's a lot of / any users with 0 hours of gameplay:"
   ]
  },
  {
   "cell_type": "code",
   "execution_count": 77,
   "id": "8c20b1e2",
   "metadata": {},
   "outputs": [
    {
     "data": {
      "text/html": [
       "<div>\n",
       "<style scoped>\n",
       "    .dataframe tbody tr th:only-of-type {\n",
       "        vertical-align: middle;\n",
       "    }\n",
       "\n",
       "    .dataframe tbody tr th {\n",
       "        vertical-align: top;\n",
       "    }\n",
       "\n",
       "    .dataframe thead th {\n",
       "        text-align: right;\n",
       "    }\n",
       "</style>\n",
       "<table border=\"1\" class=\"dataframe\">\n",
       "  <thead>\n",
       "    <tr style=\"text-align: right;\">\n",
       "      <th></th>\n",
       "      <th>version</th>\n",
       "      <th>sum_gamerounds</th>\n",
       "      <th>count</th>\n",
       "    </tr>\n",
       "  </thead>\n",
       "  <tbody>\n",
       "    <tr>\n",
       "      <th>5</th>\n",
       "      <td>gate_40</td>\n",
       "      <td>0</td>\n",
       "      <td>2057</td>\n",
       "    </tr>\n",
       "    <tr>\n",
       "      <th>6</th>\n",
       "      <td>gate_30</td>\n",
       "      <td>0</td>\n",
       "      <td>1937</td>\n",
       "    </tr>\n",
       "  </tbody>\n",
       "</table>\n",
       "</div>"
      ],
      "text/plain": [
       "   version  sum_gamerounds  count\n",
       "5  gate_40               0   2057\n",
       "6  gate_30               0   1937"
      ]
     },
     "execution_count": 77,
     "metadata": {},
     "output_type": "execute_result"
    }
   ],
   "source": [
    "gamerounds_df = pd.DataFrame(df[['version','sum_gamerounds']].value_counts()).reset_index().rename(columns = {0:'count'})\n",
    "gamerounds_df[gamerounds_df.sum_gamerounds ==0]"
   ]
  },
  {
   "cell_type": "code",
   "execution_count": 90,
   "id": "dcba0d78",
   "metadata": {},
   "outputs": [
    {
     "name": "stdout",
     "output_type": "stream",
     "text": [
      "gate_40:  0.045 %\n",
      "gate_30:  0.043 %\n"
     ]
    }
   ],
   "source": [
    "gate_40_zero, gate_30_zero = gamerounds_df[gamerounds_df.sum_gamerounds ==0].iloc[:,-1].tolist()\n",
    "print('gate_40: ',round(gate_40_zero/df[df.version =='gate_40'].shape[0],3),'%')\n",
    "print('gate_30: ',round(gate_30_zero/df[df.version =='gate_30'].shape[0],3),'%')"
   ]
  },
  {
   "cell_type": "markdown",
   "id": "7df79bf6",
   "metadata": {},
   "source": [
    "There are quite some players who didn't play at all after installing the game. However, relative to the total number of users this amount is relatively small."
   ]
  },
  {
   "cell_type": "code",
   "execution_count": 71,
   "id": "1bb65103",
   "metadata": {},
   "outputs": [
    {
     "data": {
      "image/png": "[encoded data removed]",
      "text/plain": [
       "<Figure size 600x600 with 4 Axes>"
      ]
     },
     "metadata": {},
     "output_type": "display_data"
    }
   ],
   "source": [
    "fig, ax = plt.subplots(2,2, figsize = (6,6))\n",
    "\n",
    "for i,gate in enumerate(['gate_30','gate_40']):\n",
    "    df[df.version == gate].sum_gamerounds.hist(ax = ax[0,i], bins = 50)\n",
    "    ax[0,i].set_title(gate)\n",
    "\n",
    "sns.boxplot(data = df, y = 'sum_gamerounds', x = 'version', ax = ax[1,0])\n",
    "sns.boxplot(data = df, y = 'sum_gamerounds', x = 'version', showfliers = False, ax = ax[1,1])\n",
    "plt.tight_layout(pad=1, w_pad=1, h_pad=1.0)\n",
    "plt.show()"
   ]
  },
  {
   "cell_type": "code",
   "execution_count": 97,
   "id": "de86ac0d",
   "metadata": {},
   "outputs": [
    {
     "data": {
      "text/html": [
       "<div>\n",
       "<style scoped>\n",
       "    .dataframe tbody tr th:only-of-type {\n",
       "        vertical-align: middle;\n",
       "    }\n",
       "\n",
       "    .dataframe tbody tr th {\n",
       "        vertical-align: top;\n",
       "    }\n",
       "\n",
       "    .dataframe thead th {\n",
       "        text-align: right;\n",
       "    }\n",
       "</style>\n",
       "<table border=\"1\" class=\"dataframe\">\n",
       "  <thead>\n",
       "    <tr style=\"text-align: right;\">\n",
       "      <th></th>\n",
       "      <th>userid</th>\n",
       "      <th>version</th>\n",
       "      <th>sum_gamerounds</th>\n",
       "      <th>retention_1</th>\n",
       "      <th>retention_7</th>\n",
       "    </tr>\n",
       "  </thead>\n",
       "  <tbody>\n",
       "    <tr>\n",
       "      <th>57702</th>\n",
       "      <td>6390605</td>\n",
       "      <td>gate_30</td>\n",
       "      <td>49854</td>\n",
       "      <td>False</td>\n",
       "      <td>True</td>\n",
       "    </tr>\n",
       "  </tbody>\n",
       "</table>\n",
       "</div>"
      ],
      "text/plain": [
       "        userid  version  sum_gamerounds  retention_1  retention_7\n",
       "57702  6390605  gate_30           49854        False         True"
      ]
     },
     "execution_count": 97,
     "metadata": {},
     "output_type": "execute_result"
    }
   ],
   "source": [
    "df[df.sum_gamerounds>3000]"
   ]
  },
  {
   "cell_type": "markdown",
   "id": "cc3dc6c0",
   "metadata": {},
   "source": [
    "There seems to be one extreme outlier. As this extreme value could unrepresentably influence the outcome of a comparison test, I will remove it."
   ]
  },
  {
   "cell_type": "code",
   "execution_count": 119,
   "id": "79a9539b",
   "metadata": {},
   "outputs": [
    {
     "data": {
      "image/png": "[encoded data removed]",
      "text/plain": [
       "<Figure size 600x600 with 4 Axes>"
      ]
     },
     "metadata": {},
     "output_type": "display_data"
    }
   ],
   "source": [
    "hist_and_box(df)"
   ]
  },
  {
   "cell_type": "markdown",
   "id": "8f277c89",
   "metadata": {},
   "source": [
    "The data still shows a large amount of outliers. For determining outliers, there are (at least) two possible ways: using the z-score and using the inter-quartile range times 1.5. Let's see what applying these techniques would do:"
   ]
  },
  {
   "cell_type": "code",
   "execution_count": 108,
   "id": "8fb59bdc",
   "metadata": {},
   "outputs": [
    {
     "data": {
      "text/plain": [
       "count    1849.000000\n",
       "mean      567.443483\n",
       "std       256.974819\n",
       "min       360.000000\n",
       "25%       411.000000\n",
       "50%       488.000000\n",
       "75%       617.000000\n",
       "max      2961.000000\n",
       "Name: sum_gamerounds, dtype: float64"
      ]
     },
     "execution_count": 108,
     "metadata": {},
     "output_type": "execute_result"
    }
   ],
   "source": [
    "from scipy import stats\n",
    "\n",
    "df['z_score'] = np.abs(stats.zscore(df.sum_gamerounds))\n",
    "df[df.z_score>3].sum_gamerounds.describe()"
   ]
  },
  {
   "cell_type": "code",
   "execution_count": 110,
   "id": "0db5d738",
   "metadata": {},
   "outputs": [
    {
     "data": {
      "text/plain": [
       "1840"
      ]
     },
     "execution_count": 110,
     "metadata": {},
     "output_type": "execute_result"
    }
   ],
   "source": [
    "df[df.sum_gamerounds>360].shape[0]"
   ]
  },
  {
   "cell_type": "markdown",
   "id": "992a098f",
   "metadata": {},
   "source": [
    "Using the z-test, replacing values that have a z-score above 3 (3 times std), results in a upper limit of 360. However, there's one issues: the data is not normally distributed, so using a z-test is not very accurate. It would result in replacing 1840 samples."
   ]
  },
  {
   "cell_type": "code",
   "execution_count": 113,
   "id": "e61e0125",
   "metadata": {},
   "outputs": [
    {
     "name": "stdout",
     "output_type": "stream",
     "text": [
      "120.0\n"
     ]
    }
   ],
   "source": [
    "quan1 = df.sum_gamerounds.quantile(.25)\n",
    "quan3 = df.sum_gamerounds.quantile(.75)\n",
    "itqr = quan3 - quan1\n",
    "\n",
    "upper = quan3 + 1.5*itqr\n",
    "\n",
    "print(upper)"
   ]
  },
  {
   "cell_type": "code",
   "execution_count": 114,
   "id": "bf00b19f",
   "metadata": {},
   "outputs": [
    {
     "data": {
      "text/plain": [
       "10176"
      ]
     },
     "execution_count": 114,
     "metadata": {},
     "output_type": "execute_result"
    }
   ],
   "source": [
    "df[df.sum_gamerounds>120].shape[0]"
   ]
  },
  {
   "cell_type": "markdown",
   "id": "ad0043a3",
   "metadata": {},
   "source": [
    "Using the itqr x 1.5, results in an upper limit of 120. This limit would result in replacing 10176 samples."
   ]
  },
  {
   "cell_type": "code",
   "execution_count": 115,
   "id": "e624b296",
   "metadata": {},
   "outputs": [],
   "source": [
    "df_new = df[df.sum_gamerounds<360]"
   ]
  },
  {
   "cell_type": "code",
   "execution_count": 120,
   "id": "3fb791ca",
   "metadata": {},
   "outputs": [
    {
     "data": {
      "image/png": "[encoded data removed]",
      "text/plain": [
       "<Figure size 600x600 with 4 Axes>"
      ]
     },
     "metadata": {},
     "output_type": "display_data"
    }
   ],
   "source": [
    "hist_and_box(df_new)"
   ]
  },
  {
   "cell_type": "code",
   "execution_count": 122,
   "id": "209b5d0d",
   "metadata": {},
   "outputs": [
    {
     "data": {
      "text/html": [
       "<div>\n",
       "<style scoped>\n",
       "    .dataframe tbody tr th:only-of-type {\n",
       "        vertical-align: middle;\n",
       "    }\n",
       "\n",
       "    .dataframe tbody tr th {\n",
       "        vertical-align: top;\n",
       "    }\n",
       "\n",
       "    .dataframe thead th {\n",
       "        text-align: right;\n",
       "    }\n",
       "</style>\n",
       "<table border=\"1\" class=\"dataframe\">\n",
       "  <thead>\n",
       "    <tr style=\"text-align: right;\">\n",
       "      <th></th>\n",
       "      <th>count</th>\n",
       "      <th>mean</th>\n",
       "      <th>std</th>\n",
       "      <th>min</th>\n",
       "      <th>25%</th>\n",
       "      <th>50%</th>\n",
       "      <th>75%</th>\n",
       "      <th>max</th>\n",
       "    </tr>\n",
       "    <tr>\n",
       "      <th>version</th>\n",
       "      <th></th>\n",
       "      <th></th>\n",
       "      <th></th>\n",
       "      <th></th>\n",
       "      <th></th>\n",
       "      <th></th>\n",
       "      <th></th>\n",
       "      <th></th>\n",
       "    </tr>\n",
       "  </thead>\n",
       "  <tbody>\n",
       "    <tr>\n",
       "      <th>gate_30</th>\n",
       "      <td>43770.0</td>\n",
       "      <td>40.537514</td>\n",
       "      <td>60.723443</td>\n",
       "      <td>0.0</td>\n",
       "      <td>5.0</td>\n",
       "      <td>16.0</td>\n",
       "      <td>47.0</td>\n",
       "      <td>359.0</td>\n",
       "    </tr>\n",
       "    <tr>\n",
       "      <th>gate_40</th>\n",
       "      <td>44569.0</td>\n",
       "      <td>40.497678</td>\n",
       "      <td>60.777671</td>\n",
       "      <td>0.0</td>\n",
       "      <td>5.0</td>\n",
       "      <td>16.0</td>\n",
       "      <td>48.0</td>\n",
       "      <td>359.0</td>\n",
       "    </tr>\n",
       "  </tbody>\n",
       "</table>\n",
       "</div>"
      ],
      "text/plain": [
       "           count       mean        std  min  25%   50%   75%    max\n",
       "version                                                            \n",
       "gate_30  43770.0  40.537514  60.723443  0.0  5.0  16.0  47.0  359.0\n",
       "gate_40  44569.0  40.497678  60.777671  0.0  5.0  16.0  48.0  359.0"
      ]
     },
     "execution_count": 122,
     "metadata": {},
     "output_type": "execute_result"
    }
   ],
   "source": [
    "df_new.groupby('version').sum_gamerounds.describe()"
   ]
  },
  {
   "cell_type": "markdown",
   "id": "ac629237",
   "metadata": {},
   "source": [
    "Removing the outliers resulted in the two groups showing very little difference."
   ]
  },
  {
   "cell_type": "markdown",
   "id": "a6d91da0",
   "metadata": {},
   "source": [
    "### 4. Retention"
   ]
  },
  {
   "cell_type": "markdown",
   "id": "53cc82c7",
   "metadata": {},
   "source": [
    "Now, let's also take a look at the retention differences between the groups."
   ]
  },
  {
   "cell_type": "code",
   "execution_count": 226,
   "id": "ed437301",
   "metadata": {},
   "outputs": [
    {
     "data": {
      "text/html": [
       "<div>\n",
       "<style scoped>\n",
       "    .dataframe tbody tr th:only-of-type {\n",
       "        vertical-align: middle;\n",
       "    }\n",
       "\n",
       "    .dataframe tbody tr th {\n",
       "        vertical-align: top;\n",
       "    }\n",
       "\n",
       "    .dataframe thead th {\n",
       "        text-align: right;\n",
       "    }\n",
       "</style>\n",
       "<table border=\"1\" class=\"dataframe\">\n",
       "  <thead>\n",
       "    <tr style=\"text-align: right;\">\n",
       "      <th></th>\n",
       "      <th>retention_1</th>\n",
       "      <th>count</th>\n",
       "      <th>ratio</th>\n",
       "    </tr>\n",
       "    <tr>\n",
       "      <th>version</th>\n",
       "      <th></th>\n",
       "      <th></th>\n",
       "      <th></th>\n",
       "    </tr>\n",
       "  </thead>\n",
       "  <tbody>\n",
       "    <tr>\n",
       "      <th>gate_40</th>\n",
       "      <td>False</td>\n",
       "      <td>25370</td>\n",
       "      <td>0.281301</td>\n",
       "    </tr>\n",
       "    <tr>\n",
       "      <th>gate_30</th>\n",
       "      <td>False</td>\n",
       "      <td>24665</td>\n",
       "      <td>0.273484</td>\n",
       "    </tr>\n",
       "    <tr>\n",
       "      <th>gate_40</th>\n",
       "      <td>True</td>\n",
       "      <td>20119</td>\n",
       "      <td>0.223078</td>\n",
       "    </tr>\n",
       "    <tr>\n",
       "      <th>gate_30</th>\n",
       "      <td>True</td>\n",
       "      <td>20034</td>\n",
       "      <td>0.222136</td>\n",
       "    </tr>\n",
       "  </tbody>\n",
       "</table>\n",
       "</div>"
      ],
      "text/plain": [
       "         retention_1  count     ratio\n",
       "version                              \n",
       "gate_40        False  25370  0.281301\n",
       "gate_30        False  24665  0.273484\n",
       "gate_40         True  20119  0.223078\n",
       "gate_30         True  20034  0.222136"
      ]
     },
     "execution_count": 226,
     "metadata": {},
     "output_type": "execute_result"
    }
   ],
   "source": [
    "pd.DataFrame({\"count\": df[['version','retention_1']].value_counts(),\n",
    "              \"ratio\": df[['version','retention_1']].value_counts(normalize = True)}).reset_index().set_index('version')"
   ]
  },
  {
   "cell_type": "code",
   "execution_count": 225,
   "id": "1b8a0c7d",
   "metadata": {},
   "outputs": [
    {
     "data": {
      "image/png": "[encoded data removed]",
      "text/plain": [
       "<Figure size 640x480 with 1 Axes>"
      ]
     },
     "metadata": {},
     "output_type": "display_data"
    }
   ],
   "source": [
    "sns.countplot(data = df, x = 'version', hue = 'retention_1')\n",
    "plt.legend(bbox_to_anchor=(1.05, 1), loc=2, borderaxespad=0.)\n",
    "plt.title('Retention count');"
   ]
  },
  {
   "cell_type": "code",
   "execution_count": 227,
   "id": "78312ca3",
   "metadata": {
    "scrolled": true
   },
   "outputs": [
    {
     "data": {
      "text/html": [
       "<div>\n",
       "<style scoped>\n",
       "    .dataframe tbody tr th:only-of-type {\n",
       "        vertical-align: middle;\n",
       "    }\n",
       "\n",
       "    .dataframe tbody tr th {\n",
       "        vertical-align: top;\n",
       "    }\n",
       "\n",
       "    .dataframe thead th {\n",
       "        text-align: right;\n",
       "    }\n",
       "</style>\n",
       "<table border=\"1\" class=\"dataframe\">\n",
       "  <thead>\n",
       "    <tr style=\"text-align: right;\">\n",
       "      <th></th>\n",
       "      <th>retention_7</th>\n",
       "      <th>count</th>\n",
       "      <th>ratio</th>\n",
       "    </tr>\n",
       "    <tr>\n",
       "      <th>version</th>\n",
       "      <th></th>\n",
       "      <th></th>\n",
       "      <th></th>\n",
       "    </tr>\n",
       "  </thead>\n",
       "  <tbody>\n",
       "    <tr>\n",
       "      <th>gate_40</th>\n",
       "      <td>False</td>\n",
       "      <td>37210</td>\n",
       "      <td>0.412583</td>\n",
       "    </tr>\n",
       "    <tr>\n",
       "      <th>gate_30</th>\n",
       "      <td>False</td>\n",
       "      <td>36198</td>\n",
       "      <td>0.401362</td>\n",
       "    </tr>\n",
       "    <tr>\n",
       "      <th>gate_30</th>\n",
       "      <td>True</td>\n",
       "      <td>8501</td>\n",
       "      <td>0.094259</td>\n",
       "    </tr>\n",
       "    <tr>\n",
       "      <th>gate_40</th>\n",
       "      <td>True</td>\n",
       "      <td>8279</td>\n",
       "      <td>0.091797</td>\n",
       "    </tr>\n",
       "  </tbody>\n",
       "</table>\n",
       "</div>"
      ],
      "text/plain": [
       "         retention_7  count     ratio\n",
       "version                              \n",
       "gate_40        False  37210  0.412583\n",
       "gate_30        False  36198  0.401362\n",
       "gate_30         True   8501  0.094259\n",
       "gate_40         True   8279  0.091797"
      ]
     },
     "execution_count": 227,
     "metadata": {},
     "output_type": "execute_result"
    }
   ],
   "source": [
    "pd.DataFrame({\"count\": df[['version','retention_7']].value_counts(),\n",
    "              \"ratio\": df[['version','retention_7']].value_counts(normalize = True)}).reset_index().set_index('version')"
   ]
  },
  {
   "cell_type": "code",
   "execution_count": 228,
   "id": "007550ba",
   "metadata": {},
   "outputs": [
    {
     "data": {
      "image/png": "[encoded data removed]",
      "text/plain": [
       "<Figure size 640x480 with 1 Axes>"
      ]
     },
     "metadata": {},
     "output_type": "display_data"
    }
   ],
   "source": [
    "sns.countplot(data = df, x = 'version', hue = 'retention_7')\n",
    "plt.legend(bbox_to_anchor=(1.05, 1), loc=2, borderaxespad=0.)\n",
    "plt.title('Retention count');"
   ]
  },
  {
   "cell_type": "markdown",
   "id": "60495bb0",
   "metadata": {},
   "source": [
    "Differences between retention, for both 1 day and 7 days, are very small."
   ]
  },
  {
   "cell_type": "markdown",
   "id": "5f640923",
   "metadata": {},
   "source": [
    "### 5. Hypothesis testing"
   ]
  },
  {
   "cell_type": "markdown",
   "id": "d2d0382e",
   "metadata": {},
   "source": [
    "The hypotheses for this testing are as follows:\n",
    "\n",
    "$H_{0}: {\\mu}(0) = {\\mu}(1)$\\\n",
    "$H_{1}: {\\mu}(0) ≠ {\\mu}(1)$\n",
    "\n",
    "Where 0 refers to group 'gate_30' and 1 to group 'gate_40'. I test to see whether there's enough evidence suggesting the mean sum_gamerounds are statistically different.\n",
    "\n",
    "I will use:\n",
    "\n",
    "${\\alpha} = 0.05$\n",
    "\n",
    "Which is a common value for alpha, related to a confidence of 95%.\n",
    "\n",
    "Given the skewness of the data, I will be performing the Mann-Whitney U test, which is a non-parametric test. This means that the test doesn't assume a specific distribution (like a normal), and is therefore suitable for this data."
   ]
  },
  {
   "cell_type": "code",
   "execution_count": 249,
   "id": "3eb75cfb",
   "metadata": {},
   "outputs": [],
   "source": [
    "def hypothesis_test(df, alpha = 0.05):\n",
    "    A = df[df.version == 'gate_30']['sum_gamerounds']\n",
    "    B = df[df.version == 'gate_40']['sum_gamerounds']\n",
    "    \n",
    "    _,p = mannwhitneyu(A, B)\n",
    "    \n",
    "    if p >= alpha:\n",
    "        print(f'Hypothesis 0 cannot be rejected [p ={round(p,4)}]')\n",
    "    else:\n",
    "        print(f'Hypothesis 0 can be rejected [p ={round(p,4)}]')"
   ]
  },
  {
   "cell_type": "code",
   "execution_count": 250,
   "id": "22f7d7c8",
   "metadata": {},
   "outputs": [
    {
     "name": "stdout",
     "output_type": "stream",
     "text": [
      "Hypothesis 0 cannot be rejected [p =0.062]\n"
     ]
    }
   ],
   "source": [
    "hypothesis_test(df_new)"
   ]
  },
  {
   "cell_type": "markdown",
   "id": "19d7a961",
   "metadata": {},
   "source": [
    "The p-value is above the threshold of 0.05, which means there is not enough evidence to assume the two groups are not drawn from a population with the same distribution. That is, there is not enough evidence to say that a gate at level 30 will result in users playing for longer."
   ]
  },
  {
   "cell_type": "markdown",
   "id": "286cecd1",
   "metadata": {},
   "source": [
    "Now, to check whether removing the outliers had a significant effect on the final outcome:"
   ]
  },
  {
   "cell_type": "code",
   "execution_count": 251,
   "id": "189893f1",
   "metadata": {},
   "outputs": [
    {
     "name": "stdout",
     "output_type": "stream",
     "text": [
      "Hypothesis 0 cannot be rejected [p =0.0509]\n"
     ]
    }
   ],
   "source": [
    "hypothesis_test(df)"
   ]
  },
  {
   "cell_type": "markdown",
   "id": "b0952990",
   "metadata": {},
   "source": [
    "It seems it did not. Although the p-value is lower, it is still above the threshold. If the p-value with outliers was belove the threshold, it would be a matter of deciding whether or not the set outlier threshold was correct. This is a decision that should be made on expertise and knowledge of the particular field, and should probably be made in advance to prevent bias (wanting a positive result)."
   ]
  }
 ],
 "metadata": {
  "kernelspec": {
   "display_name": "Python 3 (ipykernel)",
   "language": "python",
   "name": "python3"
  },
  "language_info": {
   "codemirror_mode": {
    "name": "ipython",
    "version": 3
   },
   "file_extension": ".py",
   "mimetype": "text/x-python",
   "name": "python",
   "nbconvert_exporter": "python",
   "pygments_lexer": "ipython3",
   "version": "3.9.7"
  }
 },
 "nbformat": 4,
 "nbformat_minor": 5
}
