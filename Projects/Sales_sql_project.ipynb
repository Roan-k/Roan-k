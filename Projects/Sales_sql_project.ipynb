{
 "cells": [
  {
   "cell_type": "markdown",
   "id": "c40be4ad",
   "metadata": {},
   "source": [
    "# Exploring sales datasets using SQL"
   ]
  },
  {
   "cell_type": "markdown",
   "id": "ea207d0a",
   "metadata": {},
   "source": [
    "The goal of this project is to explore the data of two related datasets containing information about the sales and the stores of Rossman, a German drug store chain. Through joining, grouping, plotting, and statistical inference, I try to find interesting insights.\n",
    "\n",
    "1. Importing libraries;\n",
    "2. Loading and first exploration of datasets;\n",
    "3. Moving to SQL tables\n",
    "4. EDA and hypothesis testing\n",
    "5. Time-series analysis\n",
    "\n",
    "Source: https://www.kaggle.com/competitions/rossmann-store-sales/data?select=store.csv"
   ]
  },
  {
   "cell_type": "markdown",
   "id": "c94fc53c",
   "metadata": {},
   "source": [
    "#### 1. Importing libraries"
   ]
  },
  {
   "cell_type": "code",
   "execution_count": 1,
   "id": "72d74ccd",
   "metadata": {},
   "outputs": [],
   "source": [
    "import pandas as pd\n",
    "import numpy as np\n",
    "import matplotlib.pyplot as plt\n",
    "import seaborn as sns\n",
    "from sqlalchemy import create_engine\n",
    "\n",
    "import datetime\n",
    "from dateutil.relativedelta import relativedelta\n",
    "\n",
    "sns.set_theme(style=\"whitegrid\")"
   ]
  },
  {
   "cell_type": "markdown",
   "id": "9a2ce364",
   "metadata": {},
   "source": [
    "#### 2. Loading and first exploration of datasets"
   ]
  },
  {
   "cell_type": "code",
   "execution_count": 2,
   "id": "d4298004",
   "metadata": {},
   "outputs": [
    {
     "name": "stderr",
     "output_type": "stream",
     "text": [
      "C:\\Users\\roank\\BTS\\anaconda3\\envs\\DSF\\lib\\site-packages\\IPython\\core\\interactiveshell.py:3441: DtypeWarning: Columns (7) have mixed types.Specify dtype option on import or set low_memory=False.\n",
      "  exec(code_obj, self.user_global_ns, self.user_ns)\n"
     ]
    }
   ],
   "source": [
    "sales = pd.read_csv('sales_data.csv')"
   ]
  },
  {
   "cell_type": "code",
   "execution_count": 3,
   "id": "497fb327",
   "metadata": {},
   "outputs": [
    {
     "data": {
      "text/html": [
       "<div>\n",
       "<style scoped>\n",
       "    .dataframe tbody tr th:only-of-type {\n",
       "        vertical-align: middle;\n",
       "    }\n",
       "\n",
       "    .dataframe tbody tr th {\n",
       "        vertical-align: top;\n",
       "    }\n",
       "\n",
       "    .dataframe thead th {\n",
       "        text-align: right;\n",
       "    }\n",
       "</style>\n",
       "<table border=\"1\" class=\"dataframe\">\n",
       "  <thead>\n",
       "    <tr style=\"text-align: right;\">\n",
       "      <th></th>\n",
       "      <th>Store</th>\n",
       "      <th>DayOfWeek</th>\n",
       "      <th>Date</th>\n",
       "      <th>Sales</th>\n",
       "      <th>Customers</th>\n",
       "      <th>Open</th>\n",
       "      <th>Promo</th>\n",
       "      <th>StateHoliday</th>\n",
       "      <th>SchoolHoliday</th>\n",
       "    </tr>\n",
       "  </thead>\n",
       "  <tbody>\n",
       "    <tr>\n",
       "      <th>0</th>\n",
       "      <td>1</td>\n",
       "      <td>5</td>\n",
       "      <td>2015-07-31</td>\n",
       "      <td>5263</td>\n",
       "      <td>555</td>\n",
       "      <td>1</td>\n",
       "      <td>1</td>\n",
       "      <td>0</td>\n",
       "      <td>1</td>\n",
       "    </tr>\n",
       "    <tr>\n",
       "      <th>1</th>\n",
       "      <td>2</td>\n",
       "      <td>5</td>\n",
       "      <td>2015-07-31</td>\n",
       "      <td>6064</td>\n",
       "      <td>625</td>\n",
       "      <td>1</td>\n",
       "      <td>1</td>\n",
       "      <td>0</td>\n",
       "      <td>1</td>\n",
       "    </tr>\n",
       "    <tr>\n",
       "      <th>2</th>\n",
       "      <td>3</td>\n",
       "      <td>5</td>\n",
       "      <td>2015-07-31</td>\n",
       "      <td>8314</td>\n",
       "      <td>821</td>\n",
       "      <td>1</td>\n",
       "      <td>1</td>\n",
       "      <td>0</td>\n",
       "      <td>1</td>\n",
       "    </tr>\n",
       "    <tr>\n",
       "      <th>3</th>\n",
       "      <td>4</td>\n",
       "      <td>5</td>\n",
       "      <td>2015-07-31</td>\n",
       "      <td>13995</td>\n",
       "      <td>1498</td>\n",
       "      <td>1</td>\n",
       "      <td>1</td>\n",
       "      <td>0</td>\n",
       "      <td>1</td>\n",
       "    </tr>\n",
       "    <tr>\n",
       "      <th>4</th>\n",
       "      <td>5</td>\n",
       "      <td>5</td>\n",
       "      <td>2015-07-31</td>\n",
       "      <td>4822</td>\n",
       "      <td>559</td>\n",
       "      <td>1</td>\n",
       "      <td>1</td>\n",
       "      <td>0</td>\n",
       "      <td>1</td>\n",
       "    </tr>\n",
       "  </tbody>\n",
       "</table>\n",
       "</div>"
      ],
      "text/plain": [
       "   Store  DayOfWeek        Date  Sales  Customers  Open  Promo StateHoliday  \\\n",
       "0      1          5  2015-07-31   5263        555     1      1            0   \n",
       "1      2          5  2015-07-31   6064        625     1      1            0   \n",
       "2      3          5  2015-07-31   8314        821     1      1            0   \n",
       "3      4          5  2015-07-31  13995       1498     1      1            0   \n",
       "4      5          5  2015-07-31   4822        559     1      1            0   \n",
       "\n",
       "   SchoolHoliday  \n",
       "0              1  \n",
       "1              1  \n",
       "2              1  \n",
       "3              1  \n",
       "4              1  "
      ]
     },
     "execution_count": 3,
     "metadata": {},
     "output_type": "execute_result"
    }
   ],
   "source": [
    "# I take a quick look at the data, and see several interesting features related to dates and promos.\n",
    "\n",
    "sales.head()"
   ]
  },
  {
   "cell_type": "code",
   "execution_count": 4,
   "id": "84662627",
   "metadata": {},
   "outputs": [
    {
     "data": {
      "text/plain": [
       "array(['0', 'a', 'b', 'c', 0], dtype=object)"
      ]
     },
     "execution_count": 4,
     "metadata": {},
     "output_type": "execute_result"
    }
   ],
   "source": [
    "# A warning told me to take a look at column number 7 due to mixed dtypes.\n",
    "\n",
    "sales.StateHoliday.unique()"
   ]
  },
  {
   "cell_type": "code",
   "execution_count": 5,
   "id": "72b503ea",
   "metadata": {},
   "outputs": [
    {
     "name": "stdout",
     "output_type": "stream",
     "text": [
      "['None' 'public holiday' 'Easter holiday' 'Christmas']\n",
      "category\n"
     ]
    }
   ],
   "source": [
    "# I notice that for 'no holiday' there are both 0s in numeric and string format. I replace and then map them. \n",
    "\n",
    "sales.StateHoliday = np.where(sales.StateHoliday.isin(['0',0]), 'n', sales.StateHoliday)\n",
    "\n",
    "holidays = {'a':'public holiday','b':'Easter holiday','c':'Christmas', 'n':'None'}\n",
    "sales.StateHoliday = sales.StateHoliday.map(holidays)\n",
    "print(sales.StateHoliday.unique())\n",
    "\n",
    "sales.StateHoliday = sales.StateHoliday.astype('category')\n",
    "print(sales.StateHoliday.dtype)"
   ]
  },
  {
   "cell_type": "code",
   "execution_count": 6,
   "id": "f4e27bbc",
   "metadata": {},
   "outputs": [
    {
     "data": {
      "text/html": [
       "<div>\n",
       "<style scoped>\n",
       "    .dataframe tbody tr th:only-of-type {\n",
       "        vertical-align: middle;\n",
       "    }\n",
       "\n",
       "    .dataframe tbody tr th {\n",
       "        vertical-align: top;\n",
       "    }\n",
       "\n",
       "    .dataframe thead th {\n",
       "        text-align: right;\n",
       "    }\n",
       "</style>\n",
       "<table border=\"1\" class=\"dataframe\">\n",
       "  <thead>\n",
       "    <tr style=\"text-align: right;\">\n",
       "      <th></th>\n",
       "      <th>Store</th>\n",
       "      <th>StoreType</th>\n",
       "      <th>Assortment</th>\n",
       "      <th>CompetitionDistance</th>\n",
       "      <th>CompetitionOpenSinceMonth</th>\n",
       "      <th>CompetitionOpenSinceYear</th>\n",
       "      <th>Promo2</th>\n",
       "      <th>Promo2SinceWeek</th>\n",
       "      <th>Promo2SinceYear</th>\n",
       "      <th>PromoInterval</th>\n",
       "    </tr>\n",
       "  </thead>\n",
       "  <tbody>\n",
       "    <tr>\n",
       "      <th>0</th>\n",
       "      <td>1</td>\n",
       "      <td>c</td>\n",
       "      <td>a</td>\n",
       "      <td>1270.0</td>\n",
       "      <td>9.0</td>\n",
       "      <td>2008.0</td>\n",
       "      <td>0</td>\n",
       "      <td>NaN</td>\n",
       "      <td>NaN</td>\n",
       "      <td>NaN</td>\n",
       "    </tr>\n",
       "    <tr>\n",
       "      <th>1</th>\n",
       "      <td>2</td>\n",
       "      <td>a</td>\n",
       "      <td>a</td>\n",
       "      <td>570.0</td>\n",
       "      <td>11.0</td>\n",
       "      <td>2007.0</td>\n",
       "      <td>1</td>\n",
       "      <td>13.0</td>\n",
       "      <td>2010.0</td>\n",
       "      <td>Jan,Apr,Jul,Oct</td>\n",
       "    </tr>\n",
       "    <tr>\n",
       "      <th>2</th>\n",
       "      <td>3</td>\n",
       "      <td>a</td>\n",
       "      <td>a</td>\n",
       "      <td>14130.0</td>\n",
       "      <td>12.0</td>\n",
       "      <td>2006.0</td>\n",
       "      <td>1</td>\n",
       "      <td>14.0</td>\n",
       "      <td>2011.0</td>\n",
       "      <td>Jan,Apr,Jul,Oct</td>\n",
       "    </tr>\n",
       "    <tr>\n",
       "      <th>3</th>\n",
       "      <td>4</td>\n",
       "      <td>c</td>\n",
       "      <td>c</td>\n",
       "      <td>620.0</td>\n",
       "      <td>9.0</td>\n",
       "      <td>2009.0</td>\n",
       "      <td>0</td>\n",
       "      <td>NaN</td>\n",
       "      <td>NaN</td>\n",
       "      <td>NaN</td>\n",
       "    </tr>\n",
       "    <tr>\n",
       "      <th>4</th>\n",
       "      <td>5</td>\n",
       "      <td>a</td>\n",
       "      <td>a</td>\n",
       "      <td>29910.0</td>\n",
       "      <td>4.0</td>\n",
       "      <td>2015.0</td>\n",
       "      <td>0</td>\n",
       "      <td>NaN</td>\n",
       "      <td>NaN</td>\n",
       "      <td>NaN</td>\n",
       "    </tr>\n",
       "  </tbody>\n",
       "</table>\n",
       "</div>"
      ],
      "text/plain": [
       "   Store StoreType Assortment  CompetitionDistance  CompetitionOpenSinceMonth  \\\n",
       "0      1         c          a               1270.0                        9.0   \n",
       "1      2         a          a                570.0                       11.0   \n",
       "2      3         a          a              14130.0                       12.0   \n",
       "3      4         c          c                620.0                        9.0   \n",
       "4      5         a          a              29910.0                        4.0   \n",
       "\n",
       "   CompetitionOpenSinceYear  Promo2  Promo2SinceWeek  Promo2SinceYear  \\\n",
       "0                    2008.0       0              NaN              NaN   \n",
       "1                    2007.0       1             13.0           2010.0   \n",
       "2                    2006.0       1             14.0           2011.0   \n",
       "3                    2009.0       0              NaN              NaN   \n",
       "4                    2015.0       0              NaN              NaN   \n",
       "\n",
       "     PromoInterval  \n",
       "0              NaN  \n",
       "1  Jan,Apr,Jul,Oct  \n",
       "2  Jan,Apr,Jul,Oct  \n",
       "3              NaN  \n",
       "4              NaN  "
      ]
     },
     "execution_count": 6,
     "metadata": {},
     "output_type": "execute_result"
    }
   ],
   "source": [
    "# Loading and a quick load at the second dataset\n",
    "\n",
    "stores = pd.read_csv('store.csv')\n",
    "stores.head(5)"
   ]
  },
  {
   "cell_type": "code",
   "execution_count": 7,
   "id": "fff282ca",
   "metadata": {},
   "outputs": [
    {
     "name": "stdout",
     "output_type": "stream",
     "text": [
      "['basic' 'extended' 'extra']\n",
      "category\n"
     ]
    }
   ],
   "source": [
    "# I change the Assortment categories, so it is clearer (StoreType has no further information)\n",
    "\n",
    "assortment = {'a':'basic','b':'extra','c':'extended'}\n",
    "stores.Assortment =stores.Assortment.map(assortment)\n",
    "print(stores.Assortment.unique())\n",
    "stores.Assortment =stores.Assortment.astype('category')\n",
    "print(stores.Assortment.dtype)"
   ]
  },
  {
   "cell_type": "markdown",
   "id": "5cf44bff",
   "metadata": {},
   "source": [
    "#### 3. Moving to SQL tables"
   ]
  },
  {
   "cell_type": "code",
   "execution_count": 15,
   "id": "9233f4f1",
   "metadata": {},
   "outputs": [],
   "source": [
    "engine = create_engine('sqlite://')\n",
    "conn = engine.connect()"
   ]
  },
  {
   "cell_type": "code",
   "execution_count": 16,
   "id": "95e96c7c",
   "metadata": {},
   "outputs": [
    {
     "data": {
      "text/plain": [
       "<sqlalchemy.engine.cursor.LegacyCursorResult at 0x25d8a1f3eb0>"
      ]
     },
     "execution_count": 16,
     "metadata": {},
     "output_type": "execute_result"
    }
   ],
   "source": [
    "# Pandas has a quick function to switch to SQL, but in this case I use SQL statements\n",
    "## I define the columns, setting NOT NULL for certain columns, setting a PRIMARY KEY and a FOREIGN KEY\n",
    "\n",
    "conn.execute(\"\"\" CREATE TABLE IF NOT EXISTS sales(\n",
    "                    Id INTEGER PRIMARY KEY,\n",
    "                    store Integer NOT NULL,\n",
    "                    Day_of_week Integer NOT NULL,\n",
    "                    Date Date NOT NULL,\n",
    "                    Sales Float NOT NULL,\n",
    "                    Customers Integer NOT NULL,\n",
    "                    Open Boolean NOT NULL,\n",
    "                    Promo Boolean NOT NULL,\n",
    "                    StateHoliday String(20) NOT NULL,\n",
    "                    SchoolHoliday Boolean NOT NULL,\n",
    "                    FOREIGN KEY (store) REFERENCES stores(store))\n",
    "                \"\"\")\n",
    "\n",
    "conn.execute(\"\"\" CREATE TABLE IF NOT EXISTS stores(\n",
    "                    store INTEGER PRIMARY KEY,\n",
    "                    store_type INTEGER NOT NULL,\n",
    "                    assortment STRING(10) NOT NULL,\n",
    "                    competition_distance FLOAT,\n",
    "                    competition_open_since DATE,\n",
    "                    promo2 BOOLEAN DEFAULT(NULL),\n",
    "                    promo2since DATE DEFAULT(NULL),\n",
    "                    promo_interval STRING(32))\n",
    "                \"\"\")"
   ]
  },
  {
   "cell_type": "code",
   "execution_count": 17,
   "id": "b7003e28",
   "metadata": {},
   "outputs": [
    {
     "name": "stdout",
     "output_type": "stream",
     "text": [
      "['sales', 'stores']\n"
     ]
    },
    {
     "name": "stderr",
     "output_type": "stream",
     "text": [
      "C:\\Users\\roank\\AppData\\Local\\Temp/ipykernel_3364/1043810782.py:1: SADeprecationWarning: The Engine.table_names() method is deprecated and will be removed in a future release.  Please refer to Inspector.get_table_names(). (deprecated since: 1.4)\n",
      "  print(engine.table_names())\n"
     ]
    }
   ],
   "source": [
    "print(engine.table_names())"
   ]
  },
  {
   "cell_type": "code",
   "execution_count": 18,
   "id": "a17b8549",
   "metadata": {},
   "outputs": [],
   "source": [
    "for i in range(sales.shape[0]):\n",
    "    store, day, date, sales_, customers, open_, promo, state_hol, school_hol = sales.iloc[i,:].values\n",
    "    if state_hol == 'None': state_hol = 0\n",
    "        \n",
    "    records = store, day, date, sales_, customers, open_, promo, state_hol, school_hol\n",
    "    \n",
    "    conn.execute(\"\"\"INSERT INTO sales (store, day_of_week, Date, Sales, Customers, Open, Promo,\n",
    "                                        StateHoliday, SchoolHoliday)\n",
    "                    VALUES {}\"\"\".format(records))"
   ]
  },
  {
   "cell_type": "code",
   "execution_count": 19,
   "id": "1d39aa0b",
   "metadata": {
    "scrolled": true
   },
   "outputs": [
    {
     "data": {
      "text/plain": [
       "[(1, 1, 5, '2015-07-31', 5263.0, 555, 1, 1, 0, 1),\n",
       " (2, 2, 5, '2015-07-31', 6064.0, 625, 1, 1, 0, 1),\n",
       " (3, 3, 5, '2015-07-31', 8314.0, 821, 1, 1, 0, 1),\n",
       " (4, 4, 5, '2015-07-31', 13995.0, 1498, 1, 1, 0, 1),\n",
       " (5, 5, 5, '2015-07-31', 4822.0, 559, 1, 1, 0, 1)]"
      ]
     },
     "execution_count": 19,
     "metadata": {},
     "output_type": "execute_result"
    }
   ],
   "source": [
    "# A quick check to see if inserts were correctly done\n",
    "\n",
    "rs = conn.execute(\"\"\"SELECT * FROM sales LIMIT 5\"\"\")\n",
    "rs.fetchall()"
   ]
  },
  {
   "cell_type": "code",
   "execution_count": 37,
   "id": "207fff7b",
   "metadata": {},
   "outputs": [],
   "source": [
    "for i in range(stores.shape[0]):\n",
    "    store, store_type, assortment, competition_distance, competition_open_month,\\\n",
    "    competition_open_year, promo2, promo2sincew, promo2sincey, promo_interval = stores.iloc[i,:].values    \n",
    "    \n",
    "    # I combine the month and year in one feature so the date is one clear variable\n",
    "    try:\n",
    "        competition_open_since = str(int(competition_open_year)) + '-' + str(int(competition_open_month)) + '-' + '01'\n",
    "    # I turn nans to nulls so the table takes them\n",
    "    except:\n",
    "        competition_open_since = 0\n",
    "        \n",
    "    # Idem\n",
    "    if np.isnan(competition_distance): competition_distance =0\n",
    "        \n",
    "    # I again combine the dates, also turning nans to 0 if there was no 'promo 2'    \n",
    "    if promo2 ==1: \n",
    "        promo2since = str(datetime.date(int(promo2sincey), 1, 1) + relativedelta(weeks=+promo2sincew))\n",
    "    else:\n",
    "        promo2since = 0\n",
    "        promo_interval = 0\n",
    "        \n",
    "    records = store, store_type, assortment, competition_distance, competition_open_since,\\\n",
    "              promo2,promo2since,promo_interval\n",
    "    \n",
    "    conn.execute(\"\"\"INSERT INTO stores (store, store_type, assortment, competition_distance, competition_open_since,\n",
    "                                        promo2, promo2since, promo_interval)\n",
    "                    VALUES {}\"\"\".format(records))"
   ]
  },
  {
   "cell_type": "code",
   "execution_count": 38,
   "id": "4a3f71e1",
   "metadata": {},
   "outputs": [
    {
     "data": {
      "text/plain": [
       "[(1, 'c', 'basic', 1270.0, '2008-9-01', 0, 0, 0),\n",
       " (2, 'a', 'basic', 570.0, '2007-11-01', 1, '2010-04-02', 'Jan,Apr,Jul,Oct'),\n",
       " (3, 'a', 'basic', 14130.0, '2006-12-01', 1, '2011-04-09', 'Jan,Apr,Jul,Oct'),\n",
       " (4, 'c', 'extended', 620.0, '2009-9-01', 0, 0, 0),\n",
       " (5, 'a', 'basic', 29910.0, '2015-4-01', 0, 0, 0)]"
      ]
     },
     "execution_count": 38,
     "metadata": {},
     "output_type": "execute_result"
    }
   ],
   "source": [
    "# A quick check to see if inserts were correctly done\n",
    "\n",
    "rs = conn.execute(\"\"\"SELECT * FROM stores LIMIT 5\"\"\")\n",
    "rs.fetchall()"
   ]
  },
  {
   "cell_type": "code",
   "execution_count": 39,
   "id": "a40e8151",
   "metadata": {},
   "outputs": [
    {
     "name": "stdout",
     "output_type": "stream",
     "text": [
      "CREATE TABLE sales(\n",
      "                    Id INTEGER PRIMARY KEY,\n",
      "                    store Integer NOT NULL,\n",
      "                    Day_of_week Integer NOT NULL,\n",
      "                    Date Date NOT NULL,\n",
      "                    Sales Float NOT NULL,\n",
      "                    Customers Integer NOT NULL,\n",
      "                    Open Boolean NOT NULL,\n",
      "                    Promo Boolean NOT NULL,\n",
      "                    StateHoliday String(20) NOT NULL,\n",
      "                    SchoolHoliday Boolean NOT NULL,\n",
      "                    FOREIGN KEY (store) REFERENCES stores(store))\n"
     ]
    }
   ],
   "source": [
    "rs = conn.execute(\"\"\"SELECT sql FROM sqlite_master WHERE name='sales'\"\"\")\n",
    "for i in rs.fetchall()[0]:\n",
    "    print(i)"
   ]
  },
  {
   "cell_type": "markdown",
   "id": "5aa40175",
   "metadata": {},
   "source": [
    "#### 4. EDA and hypothesis testing"
   ]
  },
  {
   "cell_type": "code",
   "execution_count": 40,
   "id": "1b57410b",
   "metadata": {},
   "outputs": [
    {
     "data": {
      "image/png": "[encoded data removed]",
      "text/plain": [
       "<Figure size 432x288 with 1 Axes>"
      ]
     },
     "metadata": {},
     "output_type": "display_data"
    }
   ],
   "source": [
    "rs = conn.execute(\"\"\"SELECT Day_of_week , AVG(Sales) as mean_sales FROM sales\n",
    "                     GROUP BY Day_of_week \"\"\")\n",
    "results = rs.fetchall()\n",
    "plt.bar(height = dict(results).values(),x = dict(results).keys());"
   ]
  },
  {
   "cell_type": "markdown",
   "id": "f2326041",
   "metadata": {},
   "source": [
    "A quick check on the dates, shows that they counted Mondays as 1 and Sundays as 7.\n",
    "\n",
    "The barplot shows that Sundays amount for the fewest sales. This is not unexcepted, as (certain) Rossman stores are closed on Sundays.\\\n",
    "Regarding the other days, there seem to be some differences, with Monday being the best day; possibly with people picking up medicines for the coming week.\\\n",
    "Let's have a closer look:"
   ]
  },
  {
   "cell_type": "code",
   "execution_count": 41,
   "id": "78b91726",
   "metadata": {},
   "outputs": [],
   "source": [
    "day_sales = conn.execute(\"\"\"SELECT Day_of_week, Sales, StateHoliday,SchoolHoliday  FROM Sales;\"\"\")\n",
    "day_sales = day_sales.fetchall()"
   ]
  },
  {
   "cell_type": "code",
   "execution_count": 42,
   "id": "b3b2173d",
   "metadata": {},
   "outputs": [],
   "source": [
    "df_sales = pd.DataFrame(day_sales, columns = ['day','sales','stHoliday','scHoliday'])"
   ]
  },
  {
   "cell_type": "code",
   "execution_count": 43,
   "id": "fc7d8866",
   "metadata": {},
   "outputs": [
    {
     "data": {
      "text/html": [
       "<div>\n",
       "<style scoped>\n",
       "    .dataframe tbody tr th:only-of-type {\n",
       "        vertical-align: middle;\n",
       "    }\n",
       "\n",
       "    .dataframe tbody tr th {\n",
       "        vertical-align: top;\n",
       "    }\n",
       "\n",
       "    .dataframe thead th {\n",
       "        text-align: right;\n",
       "    }\n",
       "</style>\n",
       "<table border=\"1\" class=\"dataframe\">\n",
       "  <thead>\n",
       "    <tr style=\"text-align: right;\">\n",
       "      <th></th>\n",
       "      <th>count</th>\n",
       "      <th>mean</th>\n",
       "      <th>std</th>\n",
       "      <th>min</th>\n",
       "      <th>25%</th>\n",
       "      <th>50%</th>\n",
       "      <th>75%</th>\n",
       "      <th>max</th>\n",
       "    </tr>\n",
       "    <tr>\n",
       "      <th>day</th>\n",
       "      <th></th>\n",
       "      <th></th>\n",
       "      <th></th>\n",
       "      <th></th>\n",
       "      <th></th>\n",
       "      <th></th>\n",
       "      <th></th>\n",
       "      <th></th>\n",
       "    </tr>\n",
       "  </thead>\n",
       "  <tbody>\n",
       "    <tr>\n",
       "      <th>1</th>\n",
       "      <td>144730.0</td>\n",
       "      <td>7809.044510</td>\n",
       "      <td>4016.526273</td>\n",
       "      <td>0.0</td>\n",
       "      <td>5235.00</td>\n",
       "      <td>7310.0</td>\n",
       "      <td>9972.0</td>\n",
       "      <td>41551.0</td>\n",
       "    </tr>\n",
       "    <tr>\n",
       "      <th>2</th>\n",
       "      <td>145664.0</td>\n",
       "      <td>7005.244467</td>\n",
       "      <td>3142.039607</td>\n",
       "      <td>0.0</td>\n",
       "      <td>4904.00</td>\n",
       "      <td>6463.0</td>\n",
       "      <td>8491.0</td>\n",
       "      <td>34692.0</td>\n",
       "    </tr>\n",
       "    <tr>\n",
       "      <th>3</th>\n",
       "      <td>145665.0</td>\n",
       "      <td>6555.884138</td>\n",
       "      <td>2944.377501</td>\n",
       "      <td>0.0</td>\n",
       "      <td>4718.00</td>\n",
       "      <td>6133.0</td>\n",
       "      <td>7926.0</td>\n",
       "      <td>33151.0</td>\n",
       "    </tr>\n",
       "    <tr>\n",
       "      <th>4</th>\n",
       "      <td>145845.0</td>\n",
       "      <td>6247.575913</td>\n",
       "      <td>3209.806360</td>\n",
       "      <td>0.0</td>\n",
       "      <td>4536.00</td>\n",
       "      <td>6020.0</td>\n",
       "      <td>7792.0</td>\n",
       "      <td>38367.0</td>\n",
       "    </tr>\n",
       "    <tr>\n",
       "      <th>5</th>\n",
       "      <td>145845.0</td>\n",
       "      <td>6723.274305</td>\n",
       "      <td>3101.006008</td>\n",
       "      <td>0.0</td>\n",
       "      <td>4975.00</td>\n",
       "      <td>6434.0</td>\n",
       "      <td>8206.0</td>\n",
       "      <td>38722.0</td>\n",
       "    </tr>\n",
       "    <tr>\n",
       "      <th>6</th>\n",
       "      <td>144730.0</td>\n",
       "      <td>5847.562599</td>\n",
       "      <td>2873.985615</td>\n",
       "      <td>0.0</td>\n",
       "      <td>3899.25</td>\n",
       "      <td>5410.0</td>\n",
       "      <td>7220.0</td>\n",
       "      <td>31683.0</td>\n",
       "    </tr>\n",
       "    <tr>\n",
       "      <th>7</th>\n",
       "      <td>144730.0</td>\n",
       "      <td>204.183189</td>\n",
       "      <td>1613.243517</td>\n",
       "      <td>0.0</td>\n",
       "      <td>0.00</td>\n",
       "      <td>0.0</td>\n",
       "      <td>0.0</td>\n",
       "      <td>37376.0</td>\n",
       "    </tr>\n",
       "  </tbody>\n",
       "</table>\n",
       "</div>"
      ],
      "text/plain": [
       "        count         mean          std  min      25%     50%     75%      max\n",
       "day                                                                           \n",
       "1    144730.0  7809.044510  4016.526273  0.0  5235.00  7310.0  9972.0  41551.0\n",
       "2    145664.0  7005.244467  3142.039607  0.0  4904.00  6463.0  8491.0  34692.0\n",
       "3    145665.0  6555.884138  2944.377501  0.0  4718.00  6133.0  7926.0  33151.0\n",
       "4    145845.0  6247.575913  3209.806360  0.0  4536.00  6020.0  7792.0  38367.0\n",
       "5    145845.0  6723.274305  3101.006008  0.0  4975.00  6434.0  8206.0  38722.0\n",
       "6    144730.0  5847.562599  2873.985615  0.0  3899.25  5410.0  7220.0  31683.0\n",
       "7    144730.0   204.183189  1613.243517  0.0     0.00     0.0     0.0  37376.0"
      ]
     },
     "execution_count": 43,
     "metadata": {},
     "output_type": "execute_result"
    }
   ],
   "source": [
    "df_sales.groupby('day')['sales'].describe()"
   ]
  },
  {
   "cell_type": "code",
   "execution_count": 44,
   "id": "10ab5b4c",
   "metadata": {
    "scrolled": false
   },
   "outputs": [
    {
     "data": {
      "image/png": "[encoded data removed]",
      "text/plain": [
       "<Figure size 432x288 with 1 Axes>"
      ]
     },
     "metadata": {},
     "output_type": "display_data"
    },
    {
     "data": {
      "image/png": "[encoded data removed]",
      "text/plain": [
       "<Figure size 432x288 with 1 Axes>"
      ]
     },
     "metadata": {},
     "output_type": "display_data"
    },
    {
     "data": {
      "image/png": "[encoded data removed]",
      "text/plain": [
       "<Figure size 432x288 with 1 Axes>"
      ]
     },
     "metadata": {},
     "output_type": "display_data"
    },
    {
     "data": {
      "image/png": "[encoded data removed]",
      "text/plain": [
       "<Figure size 432x288 with 1 Axes>"
      ]
     },
     "metadata": {},
     "output_type": "display_data"
    },
    {
     "data": {
      "image/png": "[encoded data removed]",
      "text/plain": [
       "<Figure size 432x288 with 1 Axes>"
      ]
     },
     "metadata": {},
     "output_type": "display_data"
    },
    {
     "data": {
      "image/png": "[encoded data removed]",
      "text/plain": [
       "<Figure size 432x288 with 1 Axes>"
      ]
     },
     "metadata": {},
     "output_type": "display_data"
    },
    {
     "data": {
      "image/png": "[encoded data removed]",
      "text/plain": [
       "<Figure size 432x288 with 1 Axes>"
      ]
     },
     "metadata": {},
     "output_type": "display_data"
    }
   ],
   "source": [
    "day_map = {1:'mon',2:'tue',3:'wed',4:'thur',5:'fri',6:'sat',7:'sun'}\n",
    "\n",
    "for day in [1,2,3,4,5,6,7]:\n",
    "    sns.histplot(data = df_sales[df_sales['day']==day]['sales'])\n",
    "    plt.ylim([0,10000])\n",
    "    plt.title(day_map[day])\n",
    "    plt.show()"
   ]
  },
  {
   "cell_type": "markdown",
   "id": "545ce5b2",
   "metadata": {},
   "source": [
    "We see that all days (except Sundays) show a bell shape, which is likely given the large amount of data, but also a skew towards higher sales. The latter makes sense for sales data, as it's capped at 0 but there's no upper limit. For all days there are a lot of entries with sales equal to zero. This is likely due to holidays and other closed days:"
   ]
  },
  {
   "cell_type": "code",
   "execution_count": 45,
   "id": "4eb18349",
   "metadata": {},
   "outputs": [],
   "source": [
    "sales_no_hols = conn.execute(\"\"\"SELECT Day_of_week, Sales, StateHoliday,SchoolHoliday, Date, Store  FROM Sales\n",
    "                                WHERE StateHoliday == 0 \n",
    "                                AND SchoolHoliday ==0\n",
    "                                AND Open == 1;\"\"\").fetchall()"
   ]
  },
  {
   "cell_type": "code",
   "execution_count": 46,
   "id": "ac43d789",
   "metadata": {},
   "outputs": [
    {
     "name": "stdout",
     "output_type": "stream",
     "text": [
      "mon 42\n",
      "tue 42\n",
      "wed 42\n",
      "thur 42\n",
      "fri 42\n",
      "sat 42\n",
      "sun 42\n"
     ]
    }
   ],
   "source": [
    "df_sales_no_hols = pd.DataFrame(sales_no_hols, columns = ['day','sales','stHoliday','scHoliday', 'date', 'store'])\n",
    "\n",
    "filter_ = (df_sales_no_hols['sales']==0) & (df_sales_no_hols['day']!=7)\n",
    "\n",
    "for day in [1,2,3,4,5,6,7]:\n",
    "    print(day_map[day],df_sales_no_hols['day'][filter_].count())"
   ]
  },
  {
   "cell_type": "markdown",
   "id": "fc5b43f4",
   "metadata": {},
   "source": [
    "It seems this was mostly correct. Weirdly enough there are 42 entries for all the days where sales where 0."
   ]
  },
  {
   "cell_type": "code",
   "execution_count": 47,
   "id": "6b767f3b",
   "metadata": {},
   "outputs": [
    {
     "data": {
      "text/html": [
       "<div>\n",
       "<style scoped>\n",
       "    .dataframe tbody tr th:only-of-type {\n",
       "        vertical-align: middle;\n",
       "    }\n",
       "\n",
       "    .dataframe tbody tr th {\n",
       "        vertical-align: top;\n",
       "    }\n",
       "\n",
       "    .dataframe thead th {\n",
       "        text-align: right;\n",
       "    }\n",
       "</style>\n",
       "<table border=\"1\" class=\"dataframe\">\n",
       "  <thead>\n",
       "    <tr style=\"text-align: right;\">\n",
       "      <th></th>\n",
       "      <th>day</th>\n",
       "      <th>sales</th>\n",
       "      <th>stHoliday</th>\n",
       "      <th>scHoliday</th>\n",
       "      <th>date</th>\n",
       "      <th>store</th>\n",
       "    </tr>\n",
       "  </thead>\n",
       "  <tbody>\n",
       "    <tr>\n",
       "      <th>91170</th>\n",
       "      <td>4</td>\n",
       "      <td>0.0</td>\n",
       "      <td>0</td>\n",
       "      <td>0</td>\n",
       "      <td>2015-03-26</td>\n",
       "      <td>674</td>\n",
       "    </tr>\n",
       "    <tr>\n",
       "      <th>135510</th>\n",
       "      <td>4</td>\n",
       "      <td>0.0</td>\n",
       "      <td>0</td>\n",
       "      <td>0</td>\n",
       "      <td>2015-02-05</td>\n",
       "      <td>699</td>\n",
       "    </tr>\n",
       "    <tr>\n",
       "      <th>220265</th>\n",
       "      <td>3</td>\n",
       "      <td>0.0</td>\n",
       "      <td>0</td>\n",
       "      <td>0</td>\n",
       "      <td>2014-10-01</td>\n",
       "      <td>708</td>\n",
       "    </tr>\n",
       "    <tr>\n",
       "      <th>227477</th>\n",
       "      <td>1</td>\n",
       "      <td>0.0</td>\n",
       "      <td>0</td>\n",
       "      <td>0</td>\n",
       "      <td>2014-09-22</td>\n",
       "      <td>357</td>\n",
       "    </tr>\n",
       "    <tr>\n",
       "      <th>235731</th>\n",
       "      <td>4</td>\n",
       "      <td>0.0</td>\n",
       "      <td>0</td>\n",
       "      <td>0</td>\n",
       "      <td>2014-09-11</td>\n",
       "      <td>227</td>\n",
       "    </tr>\n",
       "  </tbody>\n",
       "</table>\n",
       "</div>"
      ],
      "text/plain": [
       "        day  sales  stHoliday  scHoliday        date  store\n",
       "91170     4    0.0          0          0  2015-03-26    674\n",
       "135510    4    0.0          0          0  2015-02-05    699\n",
       "220265    3    0.0          0          0  2014-10-01    708\n",
       "227477    1    0.0          0          0  2014-09-22    357\n",
       "235731    4    0.0          0          0  2014-09-11    227"
      ]
     },
     "execution_count": 47,
     "metadata": {},
     "output_type": "execute_result"
    }
   ],
   "source": [
    "df_sales_no_hols[filter_].head(5)"
   ]
  },
  {
   "cell_type": "markdown",
   "id": "d8d2704a",
   "metadata": {},
   "source": [
    "With just the data I have, it is not possible to see what may have caused this. There seem no weird things regarding the dates or store numbers."
   ]
  },
  {
   "cell_type": "code",
   "execution_count": 48,
   "id": "5e78703f",
   "metadata": {},
   "outputs": [],
   "source": [
    "grps = conn.execute(\"\"\"SELECT DISTINCT (Day_of_week) FROM Sales;\"\"\").fetchall()\n",
    "grps = [grp[0] for grp in grps]"
   ]
  },
  {
   "cell_type": "code",
   "execution_count": 49,
   "id": "2cddde74",
   "metadata": {},
   "outputs": [
    {
     "data": {
      "text/html": [
       "<div>\n",
       "<style scoped>\n",
       "    .dataframe tbody tr th:only-of-type {\n",
       "        vertical-align: middle;\n",
       "    }\n",
       "\n",
       "    .dataframe tbody tr th {\n",
       "        vertical-align: top;\n",
       "    }\n",
       "\n",
       "    .dataframe thead th {\n",
       "        text-align: right;\n",
       "    }\n",
       "</style>\n",
       "<table border=\"1\" class=\"dataframe\">\n",
       "  <thead>\n",
       "    <tr style=\"text-align: right;\">\n",
       "      <th></th>\n",
       "      <th>day</th>\n",
       "      <th>sales</th>\n",
       "      <th>stHoliday</th>\n",
       "      <th>scHoliday</th>\n",
       "    </tr>\n",
       "  </thead>\n",
       "  <tbody>\n",
       "    <tr>\n",
       "      <th>0</th>\n",
       "      <td>5</td>\n",
       "      <td>5263.0</td>\n",
       "      <td>0</td>\n",
       "      <td>1</td>\n",
       "    </tr>\n",
       "    <tr>\n",
       "      <th>1</th>\n",
       "      <td>5</td>\n",
       "      <td>6064.0</td>\n",
       "      <td>0</td>\n",
       "      <td>1</td>\n",
       "    </tr>\n",
       "    <tr>\n",
       "      <th>2</th>\n",
       "      <td>5</td>\n",
       "      <td>8314.0</td>\n",
       "      <td>0</td>\n",
       "      <td>1</td>\n",
       "    </tr>\n",
       "  </tbody>\n",
       "</table>\n",
       "</div>"
      ],
      "text/plain": [
       "   day   sales stHoliday  scHoliday\n",
       "0    5  5263.0         0          1\n",
       "1    5  6064.0         0          1\n",
       "2    5  8314.0         0          1"
      ]
     },
     "execution_count": 49,
     "metadata": {},
     "output_type": "execute_result"
    }
   ],
   "source": [
    "df_sales.head(3)"
   ]
  },
  {
   "cell_type": "markdown",
   "id": "a0f09723",
   "metadata": {},
   "source": [
    "Let's see if the differences between days carry any statistical significance. I use a two-tailed z_test, because the number of samples is large and I want to check if the sample means of are equal of different."
   ]
  },
  {
   "cell_type": "code",
   "execution_count": 50,
   "id": "b84474c0",
   "metadata": {},
   "outputs": [],
   "source": [
    "from statsmodels.stats import weightstats as stests\n",
    "\n",
    "def z_test_days(nday, days_compare):\n",
    "    \"\"\"Takes target day (int) and days to compare ([int]) and returns days with lower means than target day\"\"\"\n",
    "    \n",
    "    focus = df_sales[df_sales['day']==nday]['sales']\n",
    "    result = []\n",
    "    \n",
    "    for day_compare in days_compare:\n",
    "        compare = df_sales[df_sales['day']==day_compare]['sales']\n",
    "        T, p = stests.ztest(focus, compare,alternative='two-sided')\n",
    "        if p<0.05 and focus.mean() > compare.mean(): result.append(day_compare)\n",
    "    \n",
    "    print('{} is larger than days {}'.format(nday,result))"
   ]
  },
  {
   "cell_type": "code",
   "execution_count": 51,
   "id": "1103eec4",
   "metadata": {},
   "outputs": [
    {
     "name": "stdout",
     "output_type": "stream",
     "text": [
      "Mean sales of day:\n",
      "1 is larger than days [2, 3, 4, 5, 6, 7]\n",
      "2 is larger than days [3, 4, 5, 6, 7]\n",
      "3 is larger than days [4, 6, 7]\n",
      "4 is larger than days [6, 7]\n",
      "5 is larger than days [3, 4, 6, 7]\n",
      "6 is larger than days [7]\n",
      "7 is larger than days []\n",
      "with statistical significance\n"
     ]
    }
   ],
   "source": [
    "print('Mean sales of day:')\n",
    "for day in [1,2,3,4,5,6,7]:\n",
    "    z_test_days(day,[1,2,3,4,5,6,7])\n",
    "print('with statistical significance')"
   ]
  },
  {
   "cell_type": "markdown",
   "id": "fec3c10a",
   "metadata": {},
   "source": [
    "We can say, with statistical confidence, that some days sales are higher than other days."
   ]
  },
  {
   "cell_type": "code",
   "execution_count": 52,
   "id": "28ca7da8",
   "metadata": {},
   "outputs": [
    {
     "data": {
      "image/png": "[encoded data removed]",
      "text/plain": [
       "<Figure size 360x360 with 1 Axes>"
      ]
     },
     "metadata": {},
     "output_type": "display_data"
    }
   ],
   "source": [
    "rs = conn.execute(\"\"\"SELECT StateHoliday, AVG(Sales) as mean_sales FROM sales\n",
    "                    Group By StateHoliday\n",
    "                    ORDER BY mean_sales DESC\"\"\")\n",
    "results = rs.fetchall()\n",
    "\n",
    "sns.catplot(data=pd.DataFrame(results), x = 0, y = 1, kind = 'bar')\n",
    "plt.xlabel('State Holiday')\n",
    "plt.ylabel('sales');"
   ]
  },
  {
   "cell_type": "markdown",
   "id": "15c76c84",
   "metadata": {},
   "source": [
    "Above visualization shows that sales on holidays are much lower than other days. Obviously, this makes sense given that Rossman sells medicines."
   ]
  },
  {
   "cell_type": "code",
   "execution_count": 53,
   "id": "dd9adad9",
   "metadata": {},
   "outputs": [
    {
     "data": {
      "image/png": "[encoded data removed]",
      "text/plain": [
       "<Figure size 864x576 with 2 Axes>"
      ]
     },
     "metadata": {},
     "output_type": "display_data"
    }
   ],
   "source": [
    "results = conn.execute(\"\"\" SELECT SchoolHoliday, Sales FROM sales\n",
    "                            WHERE StateHoliday = 0\"\"\").fetchall()\n",
    "\n",
    "fig, axes = plt.subplots(nrows =1, ncols = 2, figsize = (12,8))\n",
    "\n",
    "sns.boxplot(ax = axes[0],data = pd.DataFrame(results), x = 0, y = 1)\n",
    "sns.boxplot(ax = axes[1],data = pd.DataFrame(results), x = 0, y = 1, showfliers = False)\n",
    "for ax in axes.flat:\n",
    "    ax.set(xlabel='School Holiday', ylabel='Sales');"
   ]
  },
  {
   "cell_type": "markdown",
   "id": "00901906",
   "metadata": {},
   "source": [
    "School holidays show a different story however (leaving out state holidays, as we already know these differ). It seems sales figures for school holidays and non-school holidays are rather similar, with school holidays having slightly higher sales with less spread."
   ]
  },
  {
   "cell_type": "code",
   "execution_count": 54,
   "id": "a60cef38",
   "metadata": {},
   "outputs": [
    {
     "data": {
      "image/png": "[encoded data removed]",
      "text/plain": [
       "<Figure size 432x288 with 1 Axes>"
      ]
     },
     "metadata": {},
     "output_type": "display_data"
    }
   ],
   "source": [
    "results = conn.execute(\"\"\"SELECT Assortment, AVG(Sales) as mean_sales\n",
    "                    FROM sales\n",
    "                    LEFT JOIN stores\n",
    "                    USING (Store)\n",
    "                    GROUP BY Assortment\"\"\").fetchall()\n",
    "sns.barplot(data=pd.DataFrame(results), x = 0, y = 1)\n",
    "plt.xlabel('Assortment')\n",
    "plt.ylabel('Sales');"
   ]
  },
  {
   "cell_type": "markdown",
   "id": "0dfc9095",
   "metadata": {},
   "source": [
    "It seems that stores with extended and extra assortment make more sales, which is not that surprising. Let's see if it is worth turning basic stores into extended ones (without really taking into account extra costs as I don't have that data):"
   ]
  },
  {
   "cell_type": "code",
   "execution_count": 55,
   "id": "f136c3ec",
   "metadata": {},
   "outputs": [],
   "source": [
    "results = conn.execute(\"\"\"SELECT Assortment, Sales FROM sales\n",
    "                            LEFT JOIN stores\n",
    "                            USING (Store)\"\"\").fetchall()"
   ]
  },
  {
   "cell_type": "code",
   "execution_count": 56,
   "id": "d7342fa4",
   "metadata": {},
   "outputs": [],
   "source": [
    "results_df = pd.DataFrame(results, columns = ['assortment','sales'])"
   ]
  },
  {
   "cell_type": "code",
   "execution_count": 57,
   "id": "3cb5ab87",
   "metadata": {},
   "outputs": [
    {
     "name": "stdout",
     "output_type": "stream",
     "text": [
      "p value:  0.0\n",
      "Mean sales of extended stores are higher than of basic stores\n"
     ]
    }
   ],
   "source": [
    "focus = results_df[results_df.assortment =='extended']['sales']\n",
    "compare = results_df[results_df.assortment == 'basic']['sales']\n",
    "\n",
    "T, p = stests.ztest(focus, compare,alternative='two-sided')\n",
    "print('p value: ',p)\n",
    "\n",
    "if p <0.05: print('Mean sales of extended stores are higher than of basic stores') "
   ]
  },
  {
   "cell_type": "markdown",
   "id": "49120d07",
   "metadata": {},
   "source": [
    "We can indeed say that, based purely on sales, extending the assortment is worth it. However, there are other factors of course, like costs, location, and whether or not there are other Rossman stores closeby."
   ]
  },
  {
   "cell_type": "markdown",
   "id": "8fb10346",
   "metadata": {},
   "source": [
    "It seems Rossmann applies promos only for certain stores. Let's see if this difference in sales is statistical significant as well: "
   ]
  },
  {
   "cell_type": "code",
   "execution_count": 58,
   "id": "fd24d760",
   "metadata": {},
   "outputs": [],
   "source": [
    "results = conn.execute(\"\"\"SELECT sales, promo FROM sales\n",
    "                            LEFT JOIN stores\n",
    "                            USING (store)\"\"\").fetchall()\n"
   ]
  },
  {
   "cell_type": "code",
   "execution_count": 59,
   "id": "85842240",
   "metadata": {
    "scrolled": true
   },
   "outputs": [
    {
     "data": {
      "text/plain": [
       "promo\n",
       "0    4406.050805\n",
       "1    7991.152046\n",
       "Name: sales, dtype: float64"
      ]
     },
     "execution_count": 59,
     "metadata": {},
     "output_type": "execute_result"
    }
   ],
   "source": [
    "results_df = pd.DataFrame(results, columns = ['sales','promo'])\n",
    "results_df.groupby('promo')['sales'].mean()"
   ]
  },
  {
   "cell_type": "code",
   "execution_count": 60,
   "id": "1eb4f1f0",
   "metadata": {},
   "outputs": [
    {
     "name": "stdout",
     "output_type": "stream",
     "text": [
      "P value: 0.0\n",
      "Average sales with promo are higher than without promo\n"
     ]
    }
   ],
   "source": [
    "promo_sales = results_df[results_df.promo ==1]['sales']\n",
    "norm_sales = results_df[results_df.promo ==0]['sales']\n",
    "\n",
    "T, p = stests.ztest(promo_sales, norm_sales,alternative='two-sided')\n",
    "\n",
    "if p < 0.05: print('P value: {}\\nAverage sales with promo are higher than without promo'.format(p))"
   ]
  },
  {
   "cell_type": "markdown",
   "id": "d2550d4b",
   "metadata": {},
   "source": [
    "It seems stores with promos have higher average sales. However, if this is due to the promos is not clear, as it could be due to reasons why promos are only applied there in the first place."
   ]
  },
  {
   "cell_type": "markdown",
   "id": "c8827206",
   "metadata": {},
   "source": [
    "#### 5. Time-series analysis"
   ]
  },
  {
   "cell_type": "markdown",
   "id": "4bf30b0b",
   "metadata": {},
   "source": [
    "Now, let's look at sales patterns over time:"
   ]
  },
  {
   "cell_type": "code",
   "execution_count": 61,
   "id": "bde2239b",
   "metadata": {},
   "outputs": [],
   "source": [
    "results = conn.execute(\"\"\"SELECT AVG(Sales), Date FROM Sales\n",
    "                            GROUP BY Date\"\"\").fetchall()"
   ]
  },
  {
   "cell_type": "code",
   "execution_count": 62,
   "id": "ccc28161",
   "metadata": {},
   "outputs": [
    {
     "data": {
      "text/plain": [
       "<AxesSubplot:xlabel='date'>"
      ]
     },
     "execution_count": 62,
     "metadata": {},
     "output_type": "execute_result"
    },
    {
     "data": {
      "image/png": "[encoded data removed]",
      "text/plain": [
       "<Figure size 720x432 with 1 Axes>"
      ]
     },
     "metadata": {},
     "output_type": "display_data"
    }
   ],
   "source": [
    "results_df = pd.DataFrame(results, columns = ['sales','date'])\n",
    "results_df.set_index('date', inplace = True)\n",
    "\n",
    "results_df['MA1'] = results_df['sales'].rolling(window=40).mean()\n",
    "results_df['MA2'] = results_df['sales'].rolling(window=80).mean()\n",
    "\n",
    "results_df[['MA1','MA2']].plot(figsize=(10, 6))"
   ]
  },
  {
   "cell_type": "markdown",
   "id": "184752a2",
   "metadata": {},
   "source": [
    "The graph above pictures the moving averages (40 days, 80 days) of sales. We see two interesting things: (1) there appears to be a improving trend over all, and (2) it shows some seasonality effects."
   ]
  },
  {
   "cell_type": "markdown",
   "id": "b9f9e5cf",
   "metadata": {},
   "source": [
    "Let's compare year by year to zoom in on this seasonality:"
   ]
  },
  {
   "cell_type": "code",
   "execution_count": 63,
   "id": "3c491336",
   "metadata": {},
   "outputs": [
    {
     "data": {
      "image/png": "[encoded data removed]",
      "text/plain": [
       "<Figure size 432x288 with 1 Axes>"
      ]
     },
     "metadata": {},
     "output_type": "display_data"
    }
   ],
   "source": [
    "results_df = pd.DataFrame(results, columns = ['sales','date'])\n",
    "results_df.date = pd.to_datetime(results_df.date)\n",
    "results_df['year'] = results_df.date.dt.year\n",
    "results_df['month'] = results_df.date.dt.month\n",
    "sns.lineplot(data = results_df, x = 'month', y = 'sales', hue = 'year', estimator = sum, ci = None, palette = 'Paired_r')\n",
    "plt.xticks(np.arange(1,13,1));"
   ]
  },
  {
   "cell_type": "markdown",
   "id": "ded6c093",
   "metadata": {},
   "source": [
    "Looking at the sales figures over the three years, we notice some recurrent patterns. The three years show very similar developments with certain months falling down and others increasing. Especially towards the end of the year."
   ]
  }
 ],
 "metadata": {
  "kernelspec": {
   "display_name": "Python 3 (ipykernel)",
   "language": "python",
   "name": "python3"
  },
  "language_info": {
   "codemirror_mode": {
    "name": "ipython",
    "version": 3
   },
   "file_extension": ".py",
   "mimetype": "text/x-python",
   "name": "python",
   "nbconvert_exporter": "python",
   "pygments_lexer": "ipython3",
   "version": "3.9.7"
  }
 },
 "nbformat": 4,
 "nbformat_minor": 5
}
