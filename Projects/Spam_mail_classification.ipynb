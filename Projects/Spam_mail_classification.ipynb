{
 "cells": [
  {
   "cell_type": "markdown",
   "id": "5221ea2f",
   "metadata": {},
   "source": [
    "# Classifying spam mail"
   ]
  },
  {
   "cell_type": "markdown",
   "id": "10bfed99",
   "metadata": {},
   "source": [
    "The goal of this project is training a classifier that is able to distinguish regular mail (ham) from spam mail. The content of the notebook is as follows:\n",
    "\n",
    "1. Importing libraries;\n",
    "2. Loading and first exploration of data;\n",
    "3. Exploring data and feature generation;\n",
    "4. Cleaning data;\n",
    "5. Splitting, scaling numerical features, and vectorizing data;\n",
    "6. Trying classifiers."
   ]
  },
  {
   "cell_type": "markdown",
   "id": "0c09e10a",
   "metadata": {},
   "source": [
    "#### 1. Importing libraries"
   ]
  },
  {
   "cell_type": "code",
   "execution_count": 1,
   "id": "4aca625f",
   "metadata": {},
   "outputs": [],
   "source": [
    "import pandas as pd\n",
    "import numpy as np\n",
    "import matplotlib.pyplot as plt\n",
    "import seaborn as sns\n",
    "\n",
    "# Model selection\n",
    "from sklearn.model_selection import train_test_split\n",
    "from sklearn.model_selection import GridSearchCV\n",
    "from sklearn.pipeline import Pipeline\n",
    "from sklearn.model_selection import train_test_split\n",
    "\n",
    "# NLP pre-processing\n",
    "from nltk import word_tokenize          \n",
    "from nltk.stem import WordNetLemmatizer \n",
    "from sklearn.feature_extraction.text import CountVectorizer\n",
    "from sklearn.feature_extraction.text import TfidfVectorizer\n",
    "from sklearn.preprocessing import StandardScaler\n",
    "from scipy import sparse\n",
    "import spacy\n",
    "import string\n",
    "import re\n",
    "import contractions\n",
    "\n",
    "# Algorithms\n",
    "from xgboost import XGBClassifier\n",
    "from sklearn.tree import DecisionTreeClassifier\n",
    "from sklearn.ensemble import RandomForestClassifier\n",
    "from sklearn.svm import SVC\n",
    "from sklearn.linear_model import LogisticRegression\n",
    "\n",
    "# Metrics\n",
    "from sklearn.metrics import accuracy_score, f1_score, classification_report"
   ]
  },
  {
   "cell_type": "markdown",
   "id": "c0688989",
   "metadata": {},
   "source": [
    "#### 2. Loading and first exploration of data"
   ]
  },
  {
   "cell_type": "code",
   "execution_count": 2,
   "id": "3873d90f",
   "metadata": {},
   "outputs": [],
   "source": [
    "df_orginal = pd.read_csv('spam_ham_dataset.csv', header = 0, encoding='ISO-8859-1', index_col = 0, usecols = [0,1,2])"
   ]
  },
  {
   "cell_type": "code",
   "execution_count": 3,
   "id": "a2a499d7",
   "metadata": {},
   "outputs": [
    {
     "data": {
      "text/html": [
       "<div>\n",
       "<style scoped>\n",
       "    .dataframe tbody tr th:only-of-type {\n",
       "        vertical-align: middle;\n",
       "    }\n",
       "\n",
       "    .dataframe tbody tr th {\n",
       "        vertical-align: top;\n",
       "    }\n",
       "\n",
       "    .dataframe thead th {\n",
       "        text-align: right;\n",
       "    }\n",
       "</style>\n",
       "<table border=\"1\" class=\"dataframe\">\n",
       "  <thead>\n",
       "    <tr style=\"text-align: right;\">\n",
       "      <th></th>\n",
       "      <th>label</th>\n",
       "      <th>text</th>\n",
       "    </tr>\n",
       "  </thead>\n",
       "  <tbody>\n",
       "    <tr>\n",
       "      <th>605</th>\n",
       "      <td>ham</td>\n",
       "      <td>Subject: enron methanol ; meter # : 988291\\r\\n...</td>\n",
       "    </tr>\n",
       "    <tr>\n",
       "      <th>2349</th>\n",
       "      <td>ham</td>\n",
       "      <td>Subject: hpl nom for january 9 , 2001\\r\\n( see...</td>\n",
       "    </tr>\n",
       "    <tr>\n",
       "      <th>3624</th>\n",
       "      <td>ham</td>\n",
       "      <td>Subject: neon retreat\\r\\nho ho ho , we ' re ar...</td>\n",
       "    </tr>\n",
       "    <tr>\n",
       "      <th>4685</th>\n",
       "      <td>spam</td>\n",
       "      <td>Subject: photoshop , windows , office . cheap ...</td>\n",
       "    </tr>\n",
       "    <tr>\n",
       "      <th>2030</th>\n",
       "      <td>ham</td>\n",
       "      <td>Subject: re : indian springs\\r\\nthis deal is t...</td>\n",
       "    </tr>\n",
       "  </tbody>\n",
       "</table>\n",
       "</div>"
      ],
      "text/plain": [
       "     label                                               text\n",
       "605    ham  Subject: enron methanol ; meter # : 988291\\r\\n...\n",
       "2349   ham  Subject: hpl nom for january 9 , 2001\\r\\n( see...\n",
       "3624   ham  Subject: neon retreat\\r\\nho ho ho , we ' re ar...\n",
       "4685  spam  Subject: photoshop , windows , office . cheap ...\n",
       "2030   ham  Subject: re : indian springs\\r\\nthis deal is t..."
      ]
     },
     "execution_count": 3,
     "metadata": {},
     "output_type": "execute_result"
    }
   ],
   "source": [
    "df = df_orginal.copy()\n",
    "df.head()"
   ]
  },
  {
   "cell_type": "code",
   "execution_count": 4,
   "id": "fa664571",
   "metadata": {},
   "outputs": [
    {
     "data": {
      "text/plain": [
       "(5171, 2)"
      ]
     },
     "execution_count": 4,
     "metadata": {},
     "output_type": "execute_result"
    }
   ],
   "source": [
    "df.shape"
   ]
  },
  {
   "cell_type": "code",
   "execution_count": 5,
   "id": "0b4eadb4",
   "metadata": {},
   "outputs": [
    {
     "data": {
      "text/plain": [
       "178"
      ]
     },
     "execution_count": 5,
     "metadata": {},
     "output_type": "execute_result"
    }
   ],
   "source": [
    "df.duplicated().sum()"
   ]
  },
  {
   "cell_type": "code",
   "execution_count": 6,
   "id": "52ed16c6",
   "metadata": {},
   "outputs": [],
   "source": [
    "# We drop duplicates to prevent overfitting\n",
    "\n",
    "df = df.drop_duplicates()"
   ]
  },
  {
   "cell_type": "markdown",
   "id": "bbe12030",
   "metadata": {},
   "source": [
    "#### 3. Exploring data and feature generation"
   ]
  },
  {
   "cell_type": "markdown",
   "id": "b0f791f1",
   "metadata": {},
   "source": [
    "I notice that the text column contains several interesting words that might be useful as individual features, such as 'subject', 're:','fowarded by', and 'unsubscribe/subscribe'."
   ]
  },
  {
   "cell_type": "code",
   "execution_count": 7,
   "id": "ed22b816",
   "metadata": {},
   "outputs": [],
   "source": [
    "# We make sure every mail has a 'Subject:' part\n",
    "df['text'].str.contains('Subject:').sum() / df.shape[0]\n",
    "\n",
    "# We add columns for: subject, respons (re:), forwarded, subscribe\n",
    "start_chars, end_chars = 'Subject: ', '\\r'\n",
    "df['subject'] = df['text'].apply(lambda x: x[x.find(start_chars) + len(start_chars) : x.find(end_chars)])\n",
    "df['text'] = df['text'].apply(lambda x: x[x.find(end_chars):])\n",
    "df['response'] = np.where(df.subject.str.contains('re :'), 1,0)\n",
    "df['forwarded'] = np.where(df.text.str.contains('forwarded'),1,0)\n",
    "df['subscribe'] = np.where(df.text.str.contains('subscribe'),1,0)"
   ]
  },
  {
   "cell_type": "code",
   "execution_count": 8,
   "id": "10c46e5f",
   "metadata": {},
   "outputs": [
    {
     "data": {
      "image/png": "[encoded data removed]",
      "text/plain": [
       "<Figure size 432x288 with 1 Axes>"
      ]
     },
     "metadata": {
      "needs_background": "light"
     },
     "output_type": "display_data"
    },
    {
     "name": "stdout",
     "output_type": "stream",
     "text": [
      "Ham percentage true:  0.19\n",
      "Spam percentage true:  0.06\n"
     ]
    },
    {
     "data": {
      "image/png": "[encoded data removed]",
      "text/plain": [
       "<Figure size 432x288 with 1 Axes>"
      ]
     },
     "metadata": {
      "needs_background": "light"
     },
     "output_type": "display_data"
    },
    {
     "name": "stdout",
     "output_type": "stream",
     "text": [
      "Ham percentage true:  0.25\n",
      "Spam percentage true:  0.0\n"
     ]
    },
    {
     "data": {
      "image/png": "[encoded data removed]",
      "text/plain": [
       "<Figure size 432x288 with 1 Axes>"
      ]
     },
     "metadata": {
      "needs_background": "light"
     },
     "output_type": "display_data"
    },
    {
     "name": "stdout",
     "output_type": "stream",
     "text": [
      "Ham percentage true:  0.01\n",
      "Spam percentage true:  0.08\n"
     ]
    }
   ],
   "source": [
    "features = ['response','forwarded','subscribe']\n",
    "\n",
    "for feature in features:\n",
    "    sns.countplot(data = df, x = 'label', hue = feature)\n",
    "    _, h1, _, s1 = df.groupby('label')[feature].value_counts(normalize = True)\n",
    "    plt.xlabel(feature)\n",
    "    plt.ylabel('Number of samples')\n",
    "    plt.title('Distribution of {} across labels'.format(feature))\n",
    "    plt.show()\n",
    "    print('Ham percentage true: ',round(h1,2))\n",
    "    print('Spam percentage true: ',round(s1,2))"
   ]
  },
  {
   "cell_type": "markdown",
   "id": "ef0e6c59",
   "metadata": {},
   "source": [
    "We see some interesting things, especially regarding 'forwarded' and 'response', where there are clear differences between ham and spam. For subscribe the difference is small, suprisingly."
   ]
  },
  {
   "cell_type": "code",
   "execution_count": 9,
   "id": "727954a8",
   "metadata": {},
   "outputs": [],
   "source": [
    "# We add two more features: word count and character count\n",
    "\n",
    "df['n_chars'] = df.text.str.len()\n",
    "df['n_words'] = df.text.apply(lambda x: len([words for words in x.split()]))"
   ]
  },
  {
   "cell_type": "code",
   "execution_count": 10,
   "id": "114720d7",
   "metadata": {},
   "outputs": [
    {
     "name": "stdout",
     "output_type": "stream",
     "text": [
      "Mean\n"
     ]
    },
    {
     "data": {
      "text/html": [
       "<div>\n",
       "<style scoped>\n",
       "    .dataframe tbody tr th:only-of-type {\n",
       "        vertical-align: middle;\n",
       "    }\n",
       "\n",
       "    .dataframe tbody tr th {\n",
       "        vertical-align: top;\n",
       "    }\n",
       "\n",
       "    .dataframe thead th {\n",
       "        text-align: right;\n",
       "    }\n",
       "</style>\n",
       "<table border=\"1\" class=\"dataframe\">\n",
       "  <thead>\n",
       "    <tr style=\"text-align: right;\">\n",
       "      <th>label</th>\n",
       "      <th>ham</th>\n",
       "      <th>spam</th>\n",
       "    </tr>\n",
       "  </thead>\n",
       "  <tbody>\n",
       "    <tr>\n",
       "      <th>n_chars</th>\n",
       "      <td>955.0</td>\n",
       "      <td>1200.0</td>\n",
       "    </tr>\n",
       "    <tr>\n",
       "      <th>n_words</th>\n",
       "      <td>222.0</td>\n",
       "      <td>229.0</td>\n",
       "    </tr>\n",
       "  </tbody>\n",
       "</table>\n",
       "</div>"
      ],
      "text/plain": [
       "label      ham    spam\n",
       "n_chars  955.0  1200.0\n",
       "n_words  222.0   229.0"
      ]
     },
     "execution_count": 10,
     "metadata": {},
     "output_type": "execute_result"
    }
   ],
   "source": [
    "print('Mean')\n",
    "df.groupby('label').agg({'n_chars':'mean','n_words':'mean'}).T.round()"
   ]
  },
  {
   "cell_type": "code",
   "execution_count": 11,
   "id": "e7965647",
   "metadata": {
    "scrolled": true
   },
   "outputs": [
    {
     "name": "stdout",
     "output_type": "stream",
     "text": [
      "Standard Deviation\n"
     ]
    },
    {
     "data": {
      "text/html": [
       "<div>\n",
       "<style scoped>\n",
       "    .dataframe tbody tr th:only-of-type {\n",
       "        vertical-align: middle;\n",
       "    }\n",
       "\n",
       "    .dataframe tbody tr th {\n",
       "        vertical-align: top;\n",
       "    }\n",
       "\n",
       "    .dataframe thead th {\n",
       "        text-align: right;\n",
       "    }\n",
       "</style>\n",
       "<table border=\"1\" class=\"dataframe\">\n",
       "  <thead>\n",
       "    <tr style=\"text-align: right;\">\n",
       "      <th>label</th>\n",
       "      <th>ham</th>\n",
       "      <th>spam</th>\n",
       "    </tr>\n",
       "  </thead>\n",
       "  <tbody>\n",
       "    <tr>\n",
       "      <th>n_chars</th>\n",
       "      <td>1401.0</td>\n",
       "      <td>1838.0</td>\n",
       "    </tr>\n",
       "    <tr>\n",
       "      <th>n_words</th>\n",
       "      <td>337.0</td>\n",
       "      <td>348.0</td>\n",
       "    </tr>\n",
       "  </tbody>\n",
       "</table>\n",
       "</div>"
      ],
      "text/plain": [
       "label       ham    spam\n",
       "n_chars  1401.0  1838.0\n",
       "n_words   337.0   348.0"
      ]
     },
     "execution_count": 11,
     "metadata": {},
     "output_type": "execute_result"
    }
   ],
   "source": [
    "print('Standard Deviation')\n",
    "df.groupby('label').agg({'n_chars':'std','n_words':'std'}).T.round()"
   ]
  },
  {
   "cell_type": "markdown",
   "id": "899f5d9c",
   "metadata": {},
   "source": [
    "We do see some differences between ham and spam regarding word count and character count. However, the high standard deviations suggest that the differences are not significant."
   ]
  },
  {
   "cell_type": "markdown",
   "id": "61d6069c",
   "metadata": {},
   "source": [
    "#### 4. Cleaning data"
   ]
  },
  {
   "cell_type": "code",
   "execution_count": 12,
   "id": "f286d542",
   "metadata": {},
   "outputs": [],
   "source": [
    "# We change the label to 0 or 1, as algorithms work with numbers.\n",
    "\n",
    "df.label = np.where(df.label == 'spam',1,0)"
   ]
  },
  {
   "cell_type": "markdown",
   "id": "8541cd68",
   "metadata": {},
   "source": [
    "The mails contain a lot of symbols which we will be removing."
   ]
  },
  {
   "cell_type": "code",
   "execution_count": 13,
   "id": "0cdacca6",
   "metadata": {},
   "outputs": [],
   "source": [
    "# We replace \" ' \" and fix contractions, we remove punctuations and lowercase the text\n",
    "\n",
    "df['cl_text'] = df.text.str.replace(\" ' \", \"'\")\n",
    "df['cl_text'] = df.cl_text.apply(lambda x: ' '.join([contractions.fix(word) for word in x.split()]))\n",
    "df['cl_text'] = df.cl_text.apply(lambda x: re.sub('\\W+',' ', x))\n",
    "df['cl_text'] = df.cl_text.str.lower()\n",
    "\n",
    "# We apply the same transformations to subject\n",
    "\n",
    "df['cl_subject'] = df.subject.str.replace(\" ' \", \"'\")\n",
    "df['cl_subject'] = df.cl_subject.apply(lambda x: ' '.join([contractions.fix(word) for word in x.split()]))\n",
    "df['cl_subject'] = df.cl_subject.apply(lambda x: re.sub('\\W+',' ', x))\n",
    "df['cl_subject'] = df.cl_subject.str.lower()"
   ]
  },
  {
   "cell_type": "code",
   "execution_count": 14,
   "id": "f72e9a8d",
   "metadata": {},
   "outputs": [],
   "source": [
    "# Next, we lemmatize the words in the documents\n",
    "\n",
    "lemma = WordNetLemmatizer()\n",
    "df['cl_text'] = df.cl_text.apply(lambda x: ' '.join([lemma.lemmatize(word) for word in x.split()]))\n",
    "df['cl_subject'] = df.cl_subject.apply(lambda x: ' '.join([lemma.lemmatize(word) for word in x.split()]))"
   ]
  },
  {
   "cell_type": "code",
   "execution_count": 15,
   "id": "36934e17",
   "metadata": {},
   "outputs": [
    {
     "data": {
      "text/plain": [
       "label         0\n",
       "text          0\n",
       "subject       0\n",
       "response      0\n",
       "forwarded     0\n",
       "subscribe     0\n",
       "n_chars       0\n",
       "n_words       0\n",
       "cl_text       0\n",
       "cl_subject    0\n",
       "dtype: int64"
      ]
     },
     "execution_count": 15,
     "metadata": {},
     "output_type": "execute_result"
    }
   ],
   "source": [
    "# We check for missing values\n",
    "\n",
    "df.isna().sum()"
   ]
  },
  {
   "cell_type": "markdown",
   "id": "6876ec32",
   "metadata": {},
   "source": [
    "The dataset seems quite straightforward; no missing values and a decent amount of spam labelled mails. Nonetheless, I will keep in mind the unbalanced distribution of the target variable."
   ]
  },
  {
   "cell_type": "markdown",
   "id": "7ae65885",
   "metadata": {},
   "source": [
    "#### 5. Splitting, scaling numerical features, and vectorizing data"
   ]
  },
  {
   "cell_type": "code",
   "execution_count": 16,
   "id": "6b6cf5ab",
   "metadata": {},
   "outputs": [],
   "source": [
    "df = df.drop(['text','subject'], axis = 1)"
   ]
  },
  {
   "cell_type": "code",
   "execution_count": 17,
   "id": "96fade03",
   "metadata": {},
   "outputs": [
    {
     "name": "stdout",
     "output_type": "stream",
     "text": [
      "(3744, 7)\n",
      "(3744,)\n",
      "(1249, 7)\n",
      "(1249,)\n"
     ]
    }
   ],
   "source": [
    "# I split train and test, as usual, to have data the model has never seen\n",
    "\n",
    "X = df.drop('label', axis = 1)\n",
    "y = df['label']\n",
    "\n",
    "X_train, X_test, y_train, y_test = train_test_split(X,y, test_size = .25)\n",
    "\n",
    "print(X_train.shape)\n",
    "print(y_train.shape)\n",
    "print(X_test.shape)\n",
    "print(y_test.shape)"
   ]
  },
  {
   "cell_type": "code",
   "execution_count": 18,
   "id": "8ceb3384",
   "metadata": {},
   "outputs": [],
   "source": [
    "# I scale the numerical data as certain models perform better, fitting on train to prevent leaking any info\n",
    "\n",
    "scaler = StandardScaler()\n",
    "\n",
    "num_features = ['n_words','n_chars']\n",
    "\n",
    "for feature in num_features:\n",
    "    scaler = StandardScaler()\n",
    "    X_train[[feature]] = scaler.fit_transform(X_train[[feature]])\n",
    "    X_test[[feature]] = scaler.transform(X_test[[feature]])"
   ]
  },
  {
   "cell_type": "code",
   "execution_count": 19,
   "id": "4746b68c",
   "metadata": {},
   "outputs": [],
   "source": [
    "# Using tfidf to vectorize the textual features, again fitting on train.\n",
    "\n",
    "vector_columns = ['cl_text','cl_subject']\n",
    "\n",
    "train_sparse = X_train.drop(vector_columns, axis =1).values\n",
    "test_sparse = X_test.drop(vector_columns, axis = 1).values\n",
    "\n",
    "for column in vector_columns:\n",
    "    tfidf = TfidfVectorizer()\n",
    "    train_tfidf = tfidf.fit_transform(X_train[column])\n",
    "    test_tfidf = tfidf.transform(X_test[column])\n",
    "    \n",
    "    train_sparse = sparse.hstack((train_sparse, train_tfidf))\n",
    "    test_sparse = sparse.hstack((test_sparse, test_tfidf))"
   ]
  },
  {
   "cell_type": "code",
   "execution_count": 20,
   "id": "3b783d2b",
   "metadata": {},
   "outputs": [
    {
     "name": "stdout",
     "output_type": "stream",
     "text": [
      "(3744, 41676)\n",
      "(1249, 41676)\n"
     ]
    }
   ],
   "source": [
    "print(train_sparse.shape)\n",
    "print(test_sparse.shape)"
   ]
  },
  {
   "cell_type": "markdown",
   "id": "97f0e365",
   "metadata": {},
   "source": [
    "#### 6. Try some initial classifiers"
   ]
  },
  {
   "cell_type": "markdown",
   "id": "7c29060b",
   "metadata": {},
   "source": [
    "We try some classifiers without specifying any hyper_parameters."
   ]
  },
  {
   "cell_type": "code",
   "execution_count": 21,
   "id": "e34a7921",
   "metadata": {},
   "outputs": [
    {
     "name": "stdout",
     "output_type": "stream",
     "text": [
      "[14:16:06] WARNING: C:/Users/Administrator/workspace/xgboost-win64_release_1.5.1/src/learner.cc:1115: Starting in XGBoost 1.3.0, the default evaluation metric used with the objective 'binary:logistic' was changed from 'error' to 'logloss'. Explicitly set eval_metric if you'd like to restore the old behavior.\n"
     ]
    }
   ],
   "source": [
    "models = [('xgboost',XGBClassifier(use_label_encoder = False)),\n",
    "        ('tree', DecisionTreeClassifier()),\n",
    "        ('lr', LogisticRegression()),\n",
    "        ('svc', SVC()),\n",
    "         ('rf',RandomForestClassifier())]\n",
    "\n",
    "results = []\n",
    "\n",
    "for model in models:\n",
    "    clf = model[1].fit(train_sparse,y_train)\n",
    "    preds = clf.predict(test_sparse)\n",
    "    \n",
    "    f1 = f1_score(y_test, preds)\n",
    "    f1_macro = f1_score(y_test, preds, average = 'macro')\n",
    "    acc = accuracy_score(y_test, preds)\n",
    "    \n",
    "    results.append([model[0],acc,f1, f1_macro,preds])"
   ]
  },
  {
   "cell_type": "code",
   "execution_count": 22,
   "id": "b70984c8",
   "metadata": {},
   "outputs": [
    {
     "data": {
      "text/html": [
       "<div>\n",
       "<style scoped>\n",
       "    .dataframe tbody tr th:only-of-type {\n",
       "        vertical-align: middle;\n",
       "    }\n",
       "\n",
       "    .dataframe tbody tr th {\n",
       "        vertical-align: top;\n",
       "    }\n",
       "\n",
       "    .dataframe thead th {\n",
       "        text-align: right;\n",
       "    }\n",
       "</style>\n",
       "<table border=\"1\" class=\"dataframe\">\n",
       "  <thead>\n",
       "    <tr style=\"text-align: right;\">\n",
       "      <th></th>\n",
       "      <th>model</th>\n",
       "      <th>acc</th>\n",
       "      <th>f1</th>\n",
       "      <th>f1 macro</th>\n",
       "    </tr>\n",
       "  </thead>\n",
       "  <tbody>\n",
       "    <tr>\n",
       "      <th>2</th>\n",
       "      <td>lr</td>\n",
       "      <td>0.985588</td>\n",
       "      <td>0.976501</td>\n",
       "      <td>0.983054</td>\n",
       "    </tr>\n",
       "    <tr>\n",
       "      <th>3</th>\n",
       "      <td>svc</td>\n",
       "      <td>0.982386</td>\n",
       "      <td>0.971503</td>\n",
       "      <td>0.979378</td>\n",
       "    </tr>\n",
       "    <tr>\n",
       "      <th>4</th>\n",
       "      <td>rf</td>\n",
       "      <td>0.971978</td>\n",
       "      <td>0.952251</td>\n",
       "      <td>0.966210</td>\n",
       "    </tr>\n",
       "    <tr>\n",
       "      <th>0</th>\n",
       "      <td>xgboost</td>\n",
       "      <td>0.963971</td>\n",
       "      <td>0.940239</td>\n",
       "      <td>0.957226</td>\n",
       "    </tr>\n",
       "    <tr>\n",
       "      <th>1</th>\n",
       "      <td>tree</td>\n",
       "      <td>0.948759</td>\n",
       "      <td>0.914667</td>\n",
       "      <td>0.939027</td>\n",
       "    </tr>\n",
       "  </tbody>\n",
       "</table>\n",
       "</div>"
      ],
      "text/plain": [
       "     model       acc        f1  f1 macro\n",
       "2       lr  0.985588  0.976501  0.983054\n",
       "3      svc  0.982386  0.971503  0.979378\n",
       "4       rf  0.971978  0.952251  0.966210\n",
       "0  xgboost  0.963971  0.940239  0.957226\n",
       "1     tree  0.948759  0.914667  0.939027"
      ]
     },
     "execution_count": 22,
     "metadata": {},
     "output_type": "execute_result"
    }
   ],
   "source": [
    "results_df = pd.DataFrame(results, columns = ('model','acc','f1','f1 macro','preds')).sort_values('acc', ascending = False)\n",
    "results_df.drop('preds', axis = 1)"
   ]
  },
  {
   "cell_type": "markdown",
   "id": "f999b2cf",
   "metadata": {},
   "source": [
    "I check the predictions distribution to quickly check if the models aren't just predicting the most dominant class."
   ]
  },
  {
   "cell_type": "code",
   "execution_count": 23,
   "id": "4b6a06cd",
   "metadata": {},
   "outputs": [
    {
     "name": "stdout",
     "output_type": "stream",
     "text": [
      "0    860\n",
      "1    389\n",
      "dtype: int64\n",
      "0    854\n",
      "1    395\n",
      "dtype: int64\n",
      "0    893\n",
      "1    356\n",
      "dtype: int64\n",
      "0    873\n",
      "1    376\n",
      "dtype: int64\n",
      "0    876\n",
      "1    373\n",
      "dtype: int64\n"
     ]
    }
   ],
   "source": [
    "for i in results_df.preds:\n",
    "    print(pd.Series(i).value_counts())"
   ]
  },
  {
   "cell_type": "code",
   "execution_count": 24,
   "id": "f9477857",
   "metadata": {},
   "outputs": [
    {
     "name": "stdout",
     "output_type": "stream",
     "text": [
      "              precision    recall  f1-score   support\n",
      "\n",
      "           0       0.97      0.99      0.98       872\n",
      "           1       0.98      0.94      0.96       377\n",
      "\n",
      "    accuracy                           0.97      1249\n",
      "   macro avg       0.97      0.96      0.97      1249\n",
      "weighted avg       0.97      0.97      0.97      1249\n",
      "\n"
     ]
    }
   ],
   "source": [
    "preds = RandomForestClassifier().fit(train_sparse,y_train).predict(test_sparse)\n",
    "print(classification_report(y_test,preds))"
   ]
  },
  {
   "cell_type": "markdown",
   "id": "d709550d",
   "metadata": {},
   "source": [
    "We see the RandomForestClassifier does really well, being able to both predict spam and ham properly. The only other classifiers that come close are XGBoost and the DecisionTreeClassifier."
   ]
  }
 ],
 "metadata": {
  "kernelspec": {
   "display_name": "Python 3 (ipykernel)",
   "language": "python",
   "name": "python3"
  },
  "language_info": {
   "codemirror_mode": {
    "name": "ipython",
    "version": 3
   },
   "file_extension": ".py",
   "mimetype": "text/x-python",
   "name": "python",
   "nbconvert_exporter": "python",
   "pygments_lexer": "ipython3",
   "version": "3.9.7"
  }
 },
 "nbformat": 4,
 "nbformat_minor": 5
}
