{
 "cells": [
  {
   "cell_type": "code",
   "execution_count": 1,
   "id": "409d7635",
   "metadata": {},
   "outputs": [],
   "source": [
    "import pandas as pd\n",
    "import numpy as np\n",
    "import matplotlib.pyplot as plt\n",
    "\n",
    "# Data\n",
    "from sklearn.datasets import load_digits\n",
    "\n",
    "# Training functions\n",
    "from sklearn.decomposition import PCA\n",
    "from sklearn.model_selection import train_test_split\n",
    "from sklearn.metrics import classification_report\n",
    "\n",
    "# Algorithms\n",
    "from sklearn.ensemble import RandomForestClassifier\n",
    "from sklearn.cluster import KMeans\n",
    "from sklearn.linear_model import LogisticRegression"
   ]
  },
  {
   "cell_type": "markdown",
   "id": "29165af8",
   "metadata": {},
   "source": [
    "### Loading and exploring data"
   ]
  },
  {
   "cell_type": "code",
   "execution_count": 2,
   "id": "906052da",
   "metadata": {},
   "outputs": [
    {
     "name": "stdout",
     "output_type": "stream",
     "text": [
      "(1797, 64)\n",
      "(1797,)\n"
     ]
    }
   ],
   "source": [
    "df = load_digits()\n",
    "X = df.data\n",
    "y = df.target\n",
    "images = df.images\n",
    "\n",
    "print(X.shape)\n",
    "print(y.shape)"
   ]
  },
  {
   "cell_type": "code",
   "execution_count": 3,
   "id": "50714e14",
   "metadata": {},
   "outputs": [
    {
     "data": {
      "image/png": "[encoded data removed]",
      "text/plain": [
       "<Figure size 720x864 with 12 Axes>"
      ]
     },
     "metadata": {
      "needs_background": "light"
     },
     "output_type": "display_data"
    }
   ],
   "source": [
    "fig, ax = plt.subplots(nrows = 4, ncols = 3, figsize = (10,12))\n",
    "\n",
    "for i, axi in enumerate(ax.flat):\n",
    "    axi.imshow(images[i], cmap = 'gray')"
   ]
  },
  {
   "cell_type": "code",
   "execution_count": 4,
   "id": "5287747a",
   "metadata": {},
   "outputs": [
    {
     "data": {
      "text/plain": [
       "array([0, 1, 2, 3, 4, 5, 6, 7, 8, 9])"
      ]
     },
     "execution_count": 4,
     "metadata": {},
     "output_type": "execute_result"
    }
   ],
   "source": [
    "np.unique(y)"
   ]
  },
  {
   "cell_type": "markdown",
   "id": "54d85f1f",
   "metadata": {},
   "source": [
    "### Splitting data"
   ]
  },
  {
   "cell_type": "code",
   "execution_count": 5,
   "id": "f6ea798c",
   "metadata": {},
   "outputs": [
    {
     "name": "stdout",
     "output_type": "stream",
     "text": [
      "(1347, 64)\n",
      "(1347,)\n",
      "(450, 64)\n",
      "(450,)\n"
     ]
    }
   ],
   "source": [
    "X_train, X_test, y_train, y_test = train_test_split(X,y, test_size = 0.25)\n",
    "\n",
    "print(X_train.shape)\n",
    "print(y_train.shape)\n",
    "print(X_test.shape)\n",
    "print(y_test.shape)"
   ]
  },
  {
   "cell_type": "markdown",
   "id": "28e0b9cf",
   "metadata": {},
   "source": [
    "### Training and scoring models"
   ]
  },
  {
   "cell_type": "code",
   "execution_count": 6,
   "id": "af4d4f3e",
   "metadata": {},
   "outputs": [
    {
     "name": "stdout",
     "output_type": "stream",
     "text": [
      "0.9555555555555556\n",
      "              precision    recall  f1-score   support\n",
      "\n",
      "           0       1.00      0.98      0.99        48\n",
      "           1       0.93      0.96      0.95        56\n",
      "           2       1.00      0.96      0.98        53\n",
      "           3       0.92      0.96      0.94        51\n",
      "           4       0.97      1.00      0.99        35\n",
      "           5       0.88      0.95      0.92        40\n",
      "           6       0.97      0.97      0.97        36\n",
      "           7       1.00      0.94      0.97        36\n",
      "           8       0.95      0.86      0.90        49\n",
      "           9       0.94      0.98      0.96        46\n",
      "\n",
      "    accuracy                           0.96       450\n",
      "   macro avg       0.96      0.96      0.96       450\n",
      "weighted avg       0.96      0.96      0.96       450\n",
      "\n"
     ]
    },
    {
     "name": "stderr",
     "output_type": "stream",
     "text": [
      "C:\\Users\\roank\\BTS\\anaconda3\\envs\\DSF\\lib\\site-packages\\sklearn\\linear_model\\_logistic.py:814: ConvergenceWarning: lbfgs failed to converge (status=1):\n",
      "STOP: TOTAL NO. of ITERATIONS REACHED LIMIT.\n",
      "\n",
      "Increase the number of iterations (max_iter) or scale the data as shown in:\n",
      "    https://scikit-learn.org/stable/modules/preprocessing.html\n",
      "Please also refer to the documentation for alternative solver options:\n",
      "    https://scikit-learn.org/stable/modules/linear_model.html#logistic-regression\n",
      "  n_iter_i = _check_optimize_result(\n"
     ]
    }
   ],
   "source": [
    "lr = LogisticRegression(max_iter = 3000, random_state = 42)\n",
    "\n",
    "lr.fit(X_train, y_train)\n",
    "preds = lr.predict(X_test)\n",
    "\n",
    "print(lr.score(X_test,y_test))\n",
    "print(classification_report(y_test,preds))"
   ]
  },
  {
   "cell_type": "markdown",
   "id": "6a7c205c",
   "metadata": {},
   "source": [
    "###### Applying KMeans for feature reduction"
   ]
  },
  {
   "cell_type": "code",
   "execution_count": 7,
   "id": "d151f442",
   "metadata": {},
   "outputs": [
    {
     "name": "stdout",
     "output_type": "stream",
     "text": [
      "0.9755555555555555\n",
      "              precision    recall  f1-score   support\n",
      "\n",
      "           0       1.00      1.00      1.00        48\n",
      "           1       1.00      0.98      0.99        56\n",
      "           2       1.00      1.00      1.00        53\n",
      "           3       1.00      0.96      0.98        51\n",
      "           4       0.97      1.00      0.99        35\n",
      "           5       0.90      0.95      0.93        40\n",
      "           6       1.00      0.97      0.99        36\n",
      "           7       0.97      0.92      0.94        36\n",
      "           8       0.96      0.98      0.97        49\n",
      "           9       0.94      0.98      0.96        46\n",
      "\n",
      "    accuracy                           0.98       450\n",
      "   macro avg       0.97      0.97      0.97       450\n",
      "weighted avg       0.98      0.98      0.98       450\n",
      "\n"
     ]
    },
    {
     "name": "stderr",
     "output_type": "stream",
     "text": [
      "C:\\Users\\roank\\BTS\\anaconda3\\envs\\DSF\\lib\\site-packages\\sklearn\\linear_model\\_logistic.py:814: ConvergenceWarning: lbfgs failed to converge (status=1):\n",
      "STOP: TOTAL NO. of ITERATIONS REACHED LIMIT.\n",
      "\n",
      "Increase the number of iterations (max_iter) or scale the data as shown in:\n",
      "    https://scikit-learn.org/stable/modules/preprocessing.html\n",
      "Please also refer to the documentation for alternative solver options:\n",
      "    https://scikit-learn.org/stable/modules/linear_model.html#logistic-regression\n",
      "  n_iter_i = _check_optimize_result(\n"
     ]
    }
   ],
   "source": [
    "k = 50\n",
    "kmeans = KMeans(n_clusters = 50)\n",
    "\n",
    "kmeans.fit(X_train)\n",
    "X_train_50 = kmeans.transform(X_train)\n",
    "X_test_50 = kmeans.transform(X_test)\n",
    "\n",
    "lr = LogisticRegression(max_iter = 3000, random_state = 42)\n",
    "lr.fit(X_train_50,y_train)\n",
    "\n",
    "preds = lr.predict(X_test_50)\n",
    "\n",
    "print(lr.score(X_test_50,y_test))\n",
    "print(classification_report(y_test,preds))"
   ]
  },
  {
   "cell_type": "markdown",
   "id": "4f638a81",
   "metadata": {},
   "source": [
    "###### Applying PCA for feature reduction"
   ]
  },
  {
   "cell_type": "code",
   "execution_count": 8,
   "id": "0ec0a631",
   "metadata": {},
   "outputs": [
    {
     "name": "stdout",
     "output_type": "stream",
     "text": [
      "28\n",
      "0.9502054430432768\n"
     ]
    }
   ],
   "source": [
    "from sklearn.decomposition import PCA\n",
    "\n",
    "pca = PCA(n_components = 0.95)\n",
    "pca.fit(X_train)\n",
    "\n",
    "X_train_tr = pca.transform(X_train)\n",
    "X_test_tr = pca.transform(X_test)\n",
    "\n",
    "print(pca.n_components_)\n",
    "print(pca.explained_variance_ratio_.sum())"
   ]
  },
  {
   "cell_type": "code",
   "execution_count": 9,
   "id": "543b33e6",
   "metadata": {},
   "outputs": [
    {
     "name": "stdout",
     "output_type": "stream",
     "text": [
      "0.9644444444444444\n",
      "              precision    recall  f1-score   support\n",
      "\n",
      "           0       1.00      1.00      1.00        48\n",
      "           1       0.96      0.95      0.95        56\n",
      "           2       1.00      0.96      0.98        53\n",
      "           3       0.96      0.96      0.96        51\n",
      "           4       1.00      0.97      0.99        35\n",
      "           5       0.89      0.97      0.93        40\n",
      "           6       1.00      0.97      0.99        36\n",
      "           7       1.00      0.94      0.97        36\n",
      "           8       0.94      0.94      0.94        49\n",
      "           9       0.92      0.98      0.95        46\n",
      "\n",
      "    accuracy                           0.96       450\n",
      "   macro avg       0.97      0.96      0.97       450\n",
      "weighted avg       0.97      0.96      0.96       450\n",
      "\n"
     ]
    }
   ],
   "source": [
    "lr = LogisticRegression(max_iter = 3000, random_state = 42)\n",
    "lr.fit(X_train_tr,y_train)\n",
    "\n",
    "preds = lr.predict(X_test_tr)\n",
    "\n",
    "print(lr.score(X_test_tr,y_test))\n",
    "print(classification_report(y_test,preds))"
   ]
  }
 ],
 "metadata": {
  "kernelspec": {
   "display_name": "Python 3 (ipykernel)",
   "language": "python",
   "name": "python3"
  },
  "language_info": {
   "codemirror_mode": {
    "name": "ipython",
    "version": 3
   },
   "file_extension": ".py",
   "mimetype": "text/x-python",
   "name": "python",
   "nbconvert_exporter": "python",
   "pygments_lexer": "ipython3",
   "version": "3.9.7"
  }
 },
 "nbformat": 4,
 "nbformat_minor": 5
}
